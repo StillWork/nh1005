{
 "cells": [
  {
   "cell_type": "markdown",
   "metadata": {
    "id": "uhANs5LZqywE"
   },
   "source": [
    "# 신용카드 디폴트 찾기"
   ]
  },
  {
   "cell_type": "markdown",
   "metadata": {
    "id": "vtPBnevVqywK"
   },
   "source": [
    "# 데이터\n",
    "- 2005년 대만은행 제공\n",
    "- 대출 총액(limit_bill), 과거 상환 내역등을 보고 다음달 디폴트 예측\n",
    "- 이전 6개월의 상환 상태 (payment status): PAY\n",
    "- 이전 6개월의 청구 금액 (bill statement): BILL_AMT\n",
    "- 이전 6개월의 상환 현황 (previous payment): PAY_AMT"
   ]
  },
  {
   "cell_type": "markdown",
   "metadata": {},
   "source": [
    "## import"
   ]
  },
  {
   "cell_type": "code",
   "execution_count": 1,
   "metadata": {
    "ExecuteTime": {
     "end_time": "2020-01-29T15:24:54.871706Z",
     "start_time": "2020-01-29T15:24:54.859745Z"
    },
    "id": "VeISH9OhqywJ"
   },
   "outputs": [],
   "source": [
    "import numpy as np\n",
    "import pandas as pd\n",
    "import matplotlib.pyplot as plt\n",
    "%matplotlib inline\n",
    "%config InlineBackend.figure_format = 'retina'"
   ]
  },
  {
   "cell_type": "code",
   "execution_count": 2,
   "metadata": {},
   "outputs": [],
   "source": [
    "from sklearn.linear_model import LogisticRegression, SGDClassifier\n",
    "from sklearn.ensemble import RandomForestClassifier\n",
    "from sklearn.preprocessing import StandardScaler\n",
    "from sklearn.model_selection import train_test_split\n",
    "from sklearn.tree import DecisionTreeClassifier\n",
    "from sklearn.metrics import confusion_matrix, classification_report\n",
    "from sklearn.metrics import precision_score, recall_score, f1_score\n",
    "import seaborn as sns\n",
    "import warnings\n",
    "warnings.simplefilter(action='ignore', category=FutureWarning)\n",
    "plt.rcParams['figure.figsize'] = [8, 6]"
   ]
  },
  {
   "cell_type": "code",
   "execution_count": 3,
   "metadata": {
    "ExecuteTime": {
     "end_time": "2020-01-22T17:53:51.141373Z",
     "start_time": "2020-01-22T17:53:51.139223Z"
    },
    "colab": {
     "base_uri": "https://localhost:8080/"
    },
    "hidden": true,
    "id": "R8axpMDlqywL",
    "outputId": "b1e402f6-b4ab-4f9e-95e5-e2e6ef4f0d2e"
   },
   "outputs": [
    {
     "name": "stdout",
     "output_type": "stream",
     "text": [
      "  % Total    % Received % Xferd  Average Speed   Time    Time     Time  Current\n",
      "                                 Dload  Upload   Total   Spent    Left  Speed\n",
      "100 5409k  100 5409k    0     0  1920k      0  0:00:02  0:00:02 --:--:-- 1920k\n"
     ]
    }
   ],
   "source": [
    "!curl -o default.xls https://archive.ics.uci.edu/ml/machine-learning-databases/00350/default%20of%20credit%20card%20clients.xls"
   ]
  },
  {
   "cell_type": "code",
   "execution_count": 4,
   "metadata": {
    "ExecuteTime": {
     "end_time": "2019-10-29T16:46:22.737466Z",
     "start_time": "2019-10-29T16:46:20.151921Z"
    },
    "colab": {
     "base_uri": "https://localhost:8080/",
     "height": 525
    },
    "hidden": true,
    "id": "nvg6uadaqywL",
    "outputId": "651e68d2-925d-4e0d-98bd-cce73c99fb10"
   },
   "outputs": [
    {
     "name": "stdout",
     "output_type": "stream",
     "text": [
      "(30000, 24)\n"
     ]
    },
    {
     "data": {
      "text/html": [
       "<div>\n",
       "<style scoped>\n",
       "    .dataframe tbody tr th:only-of-type {\n",
       "        vertical-align: middle;\n",
       "    }\n",
       "\n",
       "    .dataframe tbody tr th {\n",
       "        vertical-align: top;\n",
       "    }\n",
       "\n",
       "    .dataframe thead th {\n",
       "        text-align: right;\n",
       "    }\n",
       "</style>\n",
       "<table border=\"1\" class=\"dataframe\">\n",
       "  <thead>\n",
       "    <tr style=\"text-align: right;\">\n",
       "      <th></th>\n",
       "      <th>LIMIT_BAL</th>\n",
       "      <th>SEX</th>\n",
       "      <th>EDUCATION</th>\n",
       "      <th>MARRIAGE</th>\n",
       "      <th>AGE</th>\n",
       "      <th>PAY_0</th>\n",
       "      <th>PAY_2</th>\n",
       "      <th>PAY_3</th>\n",
       "      <th>PAY_4</th>\n",
       "      <th>PAY_5</th>\n",
       "      <th>...</th>\n",
       "      <th>BILL_AMT4</th>\n",
       "      <th>BILL_AMT5</th>\n",
       "      <th>BILL_AMT6</th>\n",
       "      <th>PAY_AMT1</th>\n",
       "      <th>PAY_AMT2</th>\n",
       "      <th>PAY_AMT3</th>\n",
       "      <th>PAY_AMT4</th>\n",
       "      <th>PAY_AMT5</th>\n",
       "      <th>PAY_AMT6</th>\n",
       "      <th>default payment next month</th>\n",
       "    </tr>\n",
       "    <tr>\n",
       "      <th>ID</th>\n",
       "      <th></th>\n",
       "      <th></th>\n",
       "      <th></th>\n",
       "      <th></th>\n",
       "      <th></th>\n",
       "      <th></th>\n",
       "      <th></th>\n",
       "      <th></th>\n",
       "      <th></th>\n",
       "      <th></th>\n",
       "      <th></th>\n",
       "      <th></th>\n",
       "      <th></th>\n",
       "      <th></th>\n",
       "      <th></th>\n",
       "      <th></th>\n",
       "      <th></th>\n",
       "      <th></th>\n",
       "      <th></th>\n",
       "      <th></th>\n",
       "      <th></th>\n",
       "    </tr>\n",
       "  </thead>\n",
       "  <tbody>\n",
       "    <tr>\n",
       "      <th>1</th>\n",
       "      <td>20000</td>\n",
       "      <td>2</td>\n",
       "      <td>2</td>\n",
       "      <td>1</td>\n",
       "      <td>24</td>\n",
       "      <td>2</td>\n",
       "      <td>2</td>\n",
       "      <td>-1</td>\n",
       "      <td>-1</td>\n",
       "      <td>-2</td>\n",
       "      <td>...</td>\n",
       "      <td>0</td>\n",
       "      <td>0</td>\n",
       "      <td>0</td>\n",
       "      <td>0</td>\n",
       "      <td>689</td>\n",
       "      <td>0</td>\n",
       "      <td>0</td>\n",
       "      <td>0</td>\n",
       "      <td>0</td>\n",
       "      <td>1</td>\n",
       "    </tr>\n",
       "    <tr>\n",
       "      <th>2</th>\n",
       "      <td>120000</td>\n",
       "      <td>2</td>\n",
       "      <td>2</td>\n",
       "      <td>2</td>\n",
       "      <td>26</td>\n",
       "      <td>-1</td>\n",
       "      <td>2</td>\n",
       "      <td>0</td>\n",
       "      <td>0</td>\n",
       "      <td>0</td>\n",
       "      <td>...</td>\n",
       "      <td>3272</td>\n",
       "      <td>3455</td>\n",
       "      <td>3261</td>\n",
       "      <td>0</td>\n",
       "      <td>1000</td>\n",
       "      <td>1000</td>\n",
       "      <td>1000</td>\n",
       "      <td>0</td>\n",
       "      <td>2000</td>\n",
       "      <td>1</td>\n",
       "    </tr>\n",
       "    <tr>\n",
       "      <th>3</th>\n",
       "      <td>90000</td>\n",
       "      <td>2</td>\n",
       "      <td>2</td>\n",
       "      <td>2</td>\n",
       "      <td>34</td>\n",
       "      <td>0</td>\n",
       "      <td>0</td>\n",
       "      <td>0</td>\n",
       "      <td>0</td>\n",
       "      <td>0</td>\n",
       "      <td>...</td>\n",
       "      <td>14331</td>\n",
       "      <td>14948</td>\n",
       "      <td>15549</td>\n",
       "      <td>1518</td>\n",
       "      <td>1500</td>\n",
       "      <td>1000</td>\n",
       "      <td>1000</td>\n",
       "      <td>1000</td>\n",
       "      <td>5000</td>\n",
       "      <td>0</td>\n",
       "    </tr>\n",
       "  </tbody>\n",
       "</table>\n",
       "<p>3 rows × 24 columns</p>\n",
       "</div>"
      ],
      "text/plain": [
       "    LIMIT_BAL  SEX  EDUCATION  MARRIAGE  AGE  PAY_0  PAY_2  PAY_3  PAY_4  \\\n",
       "ID                                                                         \n",
       "1       20000    2          2         1   24      2      2     -1     -1   \n",
       "2      120000    2          2         2   26     -1      2      0      0   \n",
       "3       90000    2          2         2   34      0      0      0      0   \n",
       "\n",
       "    PAY_5  ...  BILL_AMT4  BILL_AMT5  BILL_AMT6  PAY_AMT1  PAY_AMT2  PAY_AMT3  \\\n",
       "ID         ...                                                                  \n",
       "1      -2  ...          0          0          0         0       689         0   \n",
       "2       0  ...       3272       3455       3261         0      1000      1000   \n",
       "3       0  ...      14331      14948      15549      1518      1500      1000   \n",
       "\n",
       "    PAY_AMT4  PAY_AMT5  PAY_AMT6  default payment next month  \n",
       "ID                                                            \n",
       "1          0         0         0                           1  \n",
       "2       1000         0      2000                           1  \n",
       "3       1000      1000      5000                           0  \n",
       "\n",
       "[3 rows x 24 columns]"
      ]
     },
     "execution_count": 4,
     "metadata": {},
     "output_type": "execute_result"
    }
   ],
   "source": [
    "df = pd.read_excel('default.xls', skiprows=1, index_col=0)\n",
    "print(df.shape)\n",
    "df[:3]"
   ]
  },
  {
   "cell_type": "markdown",
   "metadata": {
    "id": "50BHsquNqywO"
   },
   "source": [
    "## 컬럼명 정리\n",
    "- 대소문자, 띄어쓰기 처리"
   ]
  },
  {
   "cell_type": "code",
   "execution_count": 5,
   "metadata": {
    "colab": {
     "base_uri": "https://localhost:8080/"
    },
    "id": "42ktvURDqywO",
    "outputId": "5ebdd861-9a7e-4d78-9989-da7adf8afd96"
   },
   "outputs": [
    {
     "data": {
      "text/plain": [
       "Index(['limit_bal', 'sex', 'education', 'marriage', 'age', 'pay_0', 'pay_2',\n",
       "       'pay_3', 'pay_4', 'pay_5', 'pay_6', 'bill_amt1', 'bill_amt2',\n",
       "       'bill_amt3', 'bill_amt4', 'bill_amt5', 'bill_amt6', 'pay_amt1',\n",
       "       'pay_amt2', 'pay_amt3', 'pay_amt4', 'pay_amt5', 'pay_amt6',\n",
       "       'default_payment_next_month'],\n",
       "      dtype='object')"
      ]
     },
     "execution_count": 5,
     "metadata": {},
     "output_type": "execute_result"
    }
   ],
   "source": [
    "df.columns.str.lower().str.replace(\" \", \"_\")"
   ]
  },
  {
   "cell_type": "code",
   "execution_count": 6,
   "metadata": {
    "ExecuteTime": {
     "end_time": "2019-10-29T16:46:22.737466Z",
     "start_time": "2019-10-29T16:46:20.151921Z"
    },
    "colab": {
     "base_uri": "https://localhost:8080/",
     "height": 474
    },
    "hidden": true,
    "id": "NX2xlFMqqywP",
    "outputId": "201dd238-5917-474e-ecb6-af2b1e5930f5"
   },
   "outputs": [
    {
     "data": {
      "text/html": [
       "<div>\n",
       "<style scoped>\n",
       "    .dataframe tbody tr th:only-of-type {\n",
       "        vertical-align: middle;\n",
       "    }\n",
       "\n",
       "    .dataframe tbody tr th {\n",
       "        vertical-align: top;\n",
       "    }\n",
       "\n",
       "    .dataframe thead th {\n",
       "        text-align: right;\n",
       "    }\n",
       "</style>\n",
       "<table border=\"1\" class=\"dataframe\">\n",
       "  <thead>\n",
       "    <tr style=\"text-align: right;\">\n",
       "      <th>ID</th>\n",
       "      <th>1</th>\n",
       "      <th>2</th>\n",
       "      <th>3</th>\n",
       "    </tr>\n",
       "  </thead>\n",
       "  <tbody>\n",
       "    <tr>\n",
       "      <th>limit_bal</th>\n",
       "      <td>20000</td>\n",
       "      <td>120000</td>\n",
       "      <td>90000</td>\n",
       "    </tr>\n",
       "    <tr>\n",
       "      <th>sex</th>\n",
       "      <td>2</td>\n",
       "      <td>2</td>\n",
       "      <td>2</td>\n",
       "    </tr>\n",
       "    <tr>\n",
       "      <th>education</th>\n",
       "      <td>2</td>\n",
       "      <td>2</td>\n",
       "      <td>2</td>\n",
       "    </tr>\n",
       "    <tr>\n",
       "      <th>marriage</th>\n",
       "      <td>1</td>\n",
       "      <td>2</td>\n",
       "      <td>2</td>\n",
       "    </tr>\n",
       "    <tr>\n",
       "      <th>age</th>\n",
       "      <td>24</td>\n",
       "      <td>26</td>\n",
       "      <td>34</td>\n",
       "    </tr>\n",
       "    <tr>\n",
       "      <th>pay_0</th>\n",
       "      <td>2</td>\n",
       "      <td>-1</td>\n",
       "      <td>0</td>\n",
       "    </tr>\n",
       "    <tr>\n",
       "      <th>pay_2</th>\n",
       "      <td>2</td>\n",
       "      <td>2</td>\n",
       "      <td>0</td>\n",
       "    </tr>\n",
       "    <tr>\n",
       "      <th>pay_3</th>\n",
       "      <td>-1</td>\n",
       "      <td>0</td>\n",
       "      <td>0</td>\n",
       "    </tr>\n",
       "    <tr>\n",
       "      <th>pay_4</th>\n",
       "      <td>-1</td>\n",
       "      <td>0</td>\n",
       "      <td>0</td>\n",
       "    </tr>\n",
       "    <tr>\n",
       "      <th>pay_5</th>\n",
       "      <td>-2</td>\n",
       "      <td>0</td>\n",
       "      <td>0</td>\n",
       "    </tr>\n",
       "    <tr>\n",
       "      <th>pay_6</th>\n",
       "      <td>-2</td>\n",
       "      <td>2</td>\n",
       "      <td>0</td>\n",
       "    </tr>\n",
       "    <tr>\n",
       "      <th>bill_amt1</th>\n",
       "      <td>3913</td>\n",
       "      <td>2682</td>\n",
       "      <td>29239</td>\n",
       "    </tr>\n",
       "    <tr>\n",
       "      <th>bill_amt2</th>\n",
       "      <td>3102</td>\n",
       "      <td>1725</td>\n",
       "      <td>14027</td>\n",
       "    </tr>\n",
       "    <tr>\n",
       "      <th>bill_amt3</th>\n",
       "      <td>689</td>\n",
       "      <td>2682</td>\n",
       "      <td>13559</td>\n",
       "    </tr>\n",
       "    <tr>\n",
       "      <th>bill_amt4</th>\n",
       "      <td>0</td>\n",
       "      <td>3272</td>\n",
       "      <td>14331</td>\n",
       "    </tr>\n",
       "    <tr>\n",
       "      <th>bill_amt5</th>\n",
       "      <td>0</td>\n",
       "      <td>3455</td>\n",
       "      <td>14948</td>\n",
       "    </tr>\n",
       "    <tr>\n",
       "      <th>bill_amt6</th>\n",
       "      <td>0</td>\n",
       "      <td>3261</td>\n",
       "      <td>15549</td>\n",
       "    </tr>\n",
       "    <tr>\n",
       "      <th>pay_amt1</th>\n",
       "      <td>0</td>\n",
       "      <td>0</td>\n",
       "      <td>1518</td>\n",
       "    </tr>\n",
       "    <tr>\n",
       "      <th>pay_amt2</th>\n",
       "      <td>689</td>\n",
       "      <td>1000</td>\n",
       "      <td>1500</td>\n",
       "    </tr>\n",
       "    <tr>\n",
       "      <th>pay_amt3</th>\n",
       "      <td>0</td>\n",
       "      <td>1000</td>\n",
       "      <td>1000</td>\n",
       "    </tr>\n",
       "    <tr>\n",
       "      <th>pay_amt4</th>\n",
       "      <td>0</td>\n",
       "      <td>1000</td>\n",
       "      <td>1000</td>\n",
       "    </tr>\n",
       "    <tr>\n",
       "      <th>pay_amt5</th>\n",
       "      <td>0</td>\n",
       "      <td>0</td>\n",
       "      <td>1000</td>\n",
       "    </tr>\n",
       "    <tr>\n",
       "      <th>pay_amt6</th>\n",
       "      <td>0</td>\n",
       "      <td>2000</td>\n",
       "      <td>5000</td>\n",
       "    </tr>\n",
       "    <tr>\n",
       "      <th>default_payment_next_month</th>\n",
       "      <td>1</td>\n",
       "      <td>1</td>\n",
       "      <td>0</td>\n",
       "    </tr>\n",
       "  </tbody>\n",
       "</table>\n",
       "</div>"
      ],
      "text/plain": [
       "ID                              1       2      3\n",
       "limit_bal                   20000  120000  90000\n",
       "sex                             2       2      2\n",
       "education                       2       2      2\n",
       "marriage                        1       2      2\n",
       "age                            24      26     34\n",
       "pay_0                           2      -1      0\n",
       "pay_2                           2       2      0\n",
       "pay_3                          -1       0      0\n",
       "pay_4                          -1       0      0\n",
       "pay_5                          -2       0      0\n",
       "pay_6                          -2       2      0\n",
       "bill_amt1                    3913    2682  29239\n",
       "bill_amt2                    3102    1725  14027\n",
       "bill_amt3                     689    2682  13559\n",
       "bill_amt4                       0    3272  14331\n",
       "bill_amt5                       0    3455  14948\n",
       "bill_amt6                       0    3261  15549\n",
       "pay_amt1                        0       0   1518\n",
       "pay_amt2                      689    1000   1500\n",
       "pay_amt3                        0    1000   1000\n",
       "pay_amt4                        0    1000   1000\n",
       "pay_amt5                        0       0   1000\n",
       "pay_amt6                        0    2000   5000\n",
       "default_payment_next_month      1       1      0"
      ]
     },
     "execution_count": 6,
     "metadata": {},
     "output_type": "execute_result"
    }
   ],
   "source": [
    "df.columns = df.columns.str.lower().str.replace(\" \", \"_\")\n",
    "df[:3].T"
   ]
  },
  {
   "cell_type": "code",
   "execution_count": 7,
   "metadata": {
    "ExecuteTime": {
     "end_time": "2019-10-29T16:46:22.737466Z",
     "start_time": "2019-10-29T16:46:20.151921Z"
    },
    "colab": {
     "base_uri": "https://localhost:8080/"
    },
    "hidden": true,
    "id": "-ottBp1XqywP",
    "outputId": "e7c7a794-42af-42ae-aea8-c2877d0f103c"
   },
   "outputs": [
    {
     "data": {
      "text/plain": [
       "['payment_status_sep',\n",
       " 'payment_status_aug',\n",
       " 'payment_status_jul',\n",
       " 'payment_status_jun',\n",
       " 'payment_status_may',\n",
       " 'payment_status_apr',\n",
       " 'bill_statement_sep',\n",
       " 'bill_statement_aug',\n",
       " 'bill_statement_jul',\n",
       " 'bill_statement_jun',\n",
       " 'bill_statement_may',\n",
       " 'bill_statement_apr',\n",
       " 'previous_payment_sep',\n",
       " 'previous_payment_aug',\n",
       " 'previous_payment_jul',\n",
       " 'previous_payment_jun',\n",
       " 'previous_payment_may',\n",
       " 'previous_payment_apr']"
      ]
     },
     "execution_count": 7,
     "metadata": {},
     "output_type": "execute_result"
    }
   ],
   "source": [
    "months = ['sep', 'aug', 'jul', 'jun', 'may', 'apr']\n",
    "variables = ['payment_status', 'bill_statement', 'previous_payment']\n",
    "new_column_names = [x + '_' + y for x in variables for y in months]\n",
    "new_column_names"
   ]
  },
  {
   "cell_type": "code",
   "execution_count": 8,
   "metadata": {
    "ExecuteTime": {
     "end_time": "2019-10-29T16:46:22.737466Z",
     "start_time": "2019-10-29T16:46:20.151921Z"
    },
    "colab": {
     "base_uri": "https://localhost:8080/",
     "height": 256
    },
    "hidden": true,
    "id": "-OZZQmVzqywP",
    "outputId": "4873e7f1-2da3-487d-dd9b-3507afe40460"
   },
   "outputs": [
    {
     "data": {
      "text/html": [
       "<div>\n",
       "<style scoped>\n",
       "    .dataframe tbody tr th:only-of-type {\n",
       "        vertical-align: middle;\n",
       "    }\n",
       "\n",
       "    .dataframe tbody tr th {\n",
       "        vertical-align: top;\n",
       "    }\n",
       "\n",
       "    .dataframe thead th {\n",
       "        text-align: right;\n",
       "    }\n",
       "</style>\n",
       "<table border=\"1\" class=\"dataframe\">\n",
       "  <thead>\n",
       "    <tr style=\"text-align: right;\">\n",
       "      <th>ID</th>\n",
       "      <th>1</th>\n",
       "      <th>2</th>\n",
       "      <th>3</th>\n",
       "      <th>4</th>\n",
       "      <th>5</th>\n",
       "    </tr>\n",
       "  </thead>\n",
       "  <tbody>\n",
       "    <tr>\n",
       "      <th>limit_bal</th>\n",
       "      <td>20000</td>\n",
       "      <td>120000</td>\n",
       "      <td>90000</td>\n",
       "      <td>50000</td>\n",
       "      <td>50000</td>\n",
       "    </tr>\n",
       "    <tr>\n",
       "      <th>sex</th>\n",
       "      <td>2</td>\n",
       "      <td>2</td>\n",
       "      <td>2</td>\n",
       "      <td>2</td>\n",
       "      <td>1</td>\n",
       "    </tr>\n",
       "    <tr>\n",
       "      <th>education</th>\n",
       "      <td>2</td>\n",
       "      <td>2</td>\n",
       "      <td>2</td>\n",
       "      <td>2</td>\n",
       "      <td>2</td>\n",
       "    </tr>\n",
       "    <tr>\n",
       "      <th>marriage</th>\n",
       "      <td>1</td>\n",
       "      <td>2</td>\n",
       "      <td>2</td>\n",
       "      <td>1</td>\n",
       "      <td>1</td>\n",
       "    </tr>\n",
       "    <tr>\n",
       "      <th>age</th>\n",
       "      <td>24</td>\n",
       "      <td>26</td>\n",
       "      <td>34</td>\n",
       "      <td>37</td>\n",
       "      <td>57</td>\n",
       "    </tr>\n",
       "    <tr>\n",
       "      <th>payment_status_sep</th>\n",
       "      <td>2</td>\n",
       "      <td>-1</td>\n",
       "      <td>0</td>\n",
       "      <td>0</td>\n",
       "      <td>-1</td>\n",
       "    </tr>\n",
       "    <tr>\n",
       "      <th>payment_status_aug</th>\n",
       "      <td>2</td>\n",
       "      <td>2</td>\n",
       "      <td>0</td>\n",
       "      <td>0</td>\n",
       "      <td>0</td>\n",
       "    </tr>\n",
       "    <tr>\n",
       "      <th>payment_status_jul</th>\n",
       "      <td>-1</td>\n",
       "      <td>0</td>\n",
       "      <td>0</td>\n",
       "      <td>0</td>\n",
       "      <td>-1</td>\n",
       "    </tr>\n",
       "    <tr>\n",
       "      <th>payment_status_jun</th>\n",
       "      <td>-1</td>\n",
       "      <td>0</td>\n",
       "      <td>0</td>\n",
       "      <td>0</td>\n",
       "      <td>0</td>\n",
       "    </tr>\n",
       "    <tr>\n",
       "      <th>payment_status_may</th>\n",
       "      <td>-2</td>\n",
       "      <td>0</td>\n",
       "      <td>0</td>\n",
       "      <td>0</td>\n",
       "      <td>0</td>\n",
       "    </tr>\n",
       "    <tr>\n",
       "      <th>payment_status_apr</th>\n",
       "      <td>-2</td>\n",
       "      <td>2</td>\n",
       "      <td>0</td>\n",
       "      <td>0</td>\n",
       "      <td>0</td>\n",
       "    </tr>\n",
       "    <tr>\n",
       "      <th>bill_statement_sep</th>\n",
       "      <td>3913</td>\n",
       "      <td>2682</td>\n",
       "      <td>29239</td>\n",
       "      <td>46990</td>\n",
       "      <td>8617</td>\n",
       "    </tr>\n",
       "    <tr>\n",
       "      <th>bill_statement_aug</th>\n",
       "      <td>3102</td>\n",
       "      <td>1725</td>\n",
       "      <td>14027</td>\n",
       "      <td>48233</td>\n",
       "      <td>5670</td>\n",
       "    </tr>\n",
       "    <tr>\n",
       "      <th>bill_statement_jul</th>\n",
       "      <td>689</td>\n",
       "      <td>2682</td>\n",
       "      <td>13559</td>\n",
       "      <td>49291</td>\n",
       "      <td>35835</td>\n",
       "    </tr>\n",
       "    <tr>\n",
       "      <th>bill_statement_jun</th>\n",
       "      <td>0</td>\n",
       "      <td>3272</td>\n",
       "      <td>14331</td>\n",
       "      <td>28314</td>\n",
       "      <td>20940</td>\n",
       "    </tr>\n",
       "    <tr>\n",
       "      <th>bill_statement_may</th>\n",
       "      <td>0</td>\n",
       "      <td>3455</td>\n",
       "      <td>14948</td>\n",
       "      <td>28959</td>\n",
       "      <td>19146</td>\n",
       "    </tr>\n",
       "    <tr>\n",
       "      <th>bill_statement_apr</th>\n",
       "      <td>0</td>\n",
       "      <td>3261</td>\n",
       "      <td>15549</td>\n",
       "      <td>29547</td>\n",
       "      <td>19131</td>\n",
       "    </tr>\n",
       "    <tr>\n",
       "      <th>previous_payment_sep</th>\n",
       "      <td>0</td>\n",
       "      <td>0</td>\n",
       "      <td>1518</td>\n",
       "      <td>2000</td>\n",
       "      <td>2000</td>\n",
       "    </tr>\n",
       "    <tr>\n",
       "      <th>previous_payment_aug</th>\n",
       "      <td>689</td>\n",
       "      <td>1000</td>\n",
       "      <td>1500</td>\n",
       "      <td>2019</td>\n",
       "      <td>36681</td>\n",
       "    </tr>\n",
       "    <tr>\n",
       "      <th>previous_payment_jul</th>\n",
       "      <td>0</td>\n",
       "      <td>1000</td>\n",
       "      <td>1000</td>\n",
       "      <td>1200</td>\n",
       "      <td>10000</td>\n",
       "    </tr>\n",
       "    <tr>\n",
       "      <th>previous_payment_jun</th>\n",
       "      <td>0</td>\n",
       "      <td>1000</td>\n",
       "      <td>1000</td>\n",
       "      <td>1100</td>\n",
       "      <td>9000</td>\n",
       "    </tr>\n",
       "    <tr>\n",
       "      <th>previous_payment_may</th>\n",
       "      <td>0</td>\n",
       "      <td>0</td>\n",
       "      <td>1000</td>\n",
       "      <td>1069</td>\n",
       "      <td>689</td>\n",
       "    </tr>\n",
       "    <tr>\n",
       "      <th>previous_payment_apr</th>\n",
       "      <td>0</td>\n",
       "      <td>2000</td>\n",
       "      <td>5000</td>\n",
       "      <td>1000</td>\n",
       "      <td>679</td>\n",
       "    </tr>\n",
       "    <tr>\n",
       "      <th>default_payment_next_month</th>\n",
       "      <td>1</td>\n",
       "      <td>1</td>\n",
       "      <td>0</td>\n",
       "      <td>0</td>\n",
       "      <td>0</td>\n",
       "    </tr>\n",
       "  </tbody>\n",
       "</table>\n",
       "</div>"
      ],
      "text/plain": [
       "ID                              1       2      3      4      5\n",
       "limit_bal                   20000  120000  90000  50000  50000\n",
       "sex                             2       2      2      2      1\n",
       "education                       2       2      2      2      2\n",
       "marriage                        1       2      2      1      1\n",
       "age                            24      26     34     37     57\n",
       "payment_status_sep              2      -1      0      0     -1\n",
       "payment_status_aug              2       2      0      0      0\n",
       "payment_status_jul             -1       0      0      0     -1\n",
       "payment_status_jun             -1       0      0      0      0\n",
       "payment_status_may             -2       0      0      0      0\n",
       "payment_status_apr             -2       2      0      0      0\n",
       "bill_statement_sep           3913    2682  29239  46990   8617\n",
       "bill_statement_aug           3102    1725  14027  48233   5670\n",
       "bill_statement_jul            689    2682  13559  49291  35835\n",
       "bill_statement_jun              0    3272  14331  28314  20940\n",
       "bill_statement_may              0    3455  14948  28959  19146\n",
       "bill_statement_apr              0    3261  15549  29547  19131\n",
       "previous_payment_sep            0       0   1518   2000   2000\n",
       "previous_payment_aug          689    1000   1500   2019  36681\n",
       "previous_payment_jul            0    1000   1000   1200  10000\n",
       "previous_payment_jun            0    1000   1000   1100   9000\n",
       "previous_payment_may            0       0   1000   1069    689\n",
       "previous_payment_apr            0    2000   5000   1000    679\n",
       "default_payment_next_month      1       1      0      0      0"
      ]
     },
     "execution_count": 8,
     "metadata": {},
     "output_type": "execute_result"
    }
   ],
   "source": [
    "rename_dict = {x: y for x, y in zip(df.loc[:, 'pay_0':'pay_amt6'].columns, new_column_names)}\n",
    "df.rename(columns=rename_dict, inplace=True)\n",
    "df.head().T"
   ]
  },
  {
   "cell_type": "markdown",
   "metadata": {},
   "source": [
    "## 카테고리 변수 처리"
   ]
  },
  {
   "cell_type": "code",
   "execution_count": 9,
   "metadata": {
    "ExecuteTime": {
     "end_time": "2019-10-29T16:46:22.737466Z",
     "start_time": "2019-10-29T16:46:20.151921Z"
    },
    "colab": {
     "base_uri": "https://localhost:8080/"
    },
    "hidden": true,
    "id": "aVKlqFIbqywQ",
    "outputId": "288833d3-4296-4ae9-92fe-7117abe77140"
   },
   "outputs": [
    {
     "name": "stdout",
     "output_type": "stream",
     "text": [
      "<class 'pandas.core.frame.DataFrame'>\n",
      "Int64Index: 30000 entries, 1 to 30000\n",
      "Data columns (total 24 columns):\n",
      " #   Column                      Non-Null Count  Dtype \n",
      "---  ------                      --------------  ----- \n",
      " 0   limit_bal                   30000 non-null  int64 \n",
      " 1   sex                         30000 non-null  object\n",
      " 2   education                   30000 non-null  object\n",
      " 3   marriage                    30000 non-null  object\n",
      " 4   age                         30000 non-null  int64 \n",
      " 5   payment_status_sep          30000 non-null  int64 \n",
      " 6   payment_status_aug          30000 non-null  int64 \n",
      " 7   payment_status_jul          30000 non-null  int64 \n",
      " 8   payment_status_jun          30000 non-null  int64 \n",
      " 9   payment_status_may          30000 non-null  int64 \n",
      " 10  payment_status_apr          30000 non-null  int64 \n",
      " 11  bill_statement_sep          30000 non-null  int64 \n",
      " 12  bill_statement_aug          30000 non-null  int64 \n",
      " 13  bill_statement_jul          30000 non-null  int64 \n",
      " 14  bill_statement_jun          30000 non-null  int64 \n",
      " 15  bill_statement_may          30000 non-null  int64 \n",
      " 16  bill_statement_apr          30000 non-null  int64 \n",
      " 17  previous_payment_sep        30000 non-null  int64 \n",
      " 18  previous_payment_aug        30000 non-null  int64 \n",
      " 19  previous_payment_jul        30000 non-null  int64 \n",
      " 20  previous_payment_jun        30000 non-null  int64 \n",
      " 21  previous_payment_may        30000 non-null  int64 \n",
      " 22  previous_payment_apr        30000 non-null  int64 \n",
      " 23  default_payment_next_month  30000 non-null  int64 \n",
      "dtypes: int64(21), object(3)\n",
      "memory usage: 5.7+ MB\n"
     ]
    }
   ],
   "source": [
    "# 알려져 있는 인코딩 값을 카테고리 변수로 표현 (숫자--> 문자열)\n",
    "gender_dict = {1: 'Male', \n",
    "               2: 'Female'}\n",
    "education_dict = {0: 'Others',\n",
    "                  1: 'Graduate school', \n",
    "                  2: 'University', \n",
    "                  3: 'High school', \n",
    "                  4: 'Others',\n",
    "                  5: 'Others',\n",
    "                  6: 'Others'}\n",
    "marital_status_dict = {0: 'Others', \n",
    "                       1: 'Married', \n",
    "                       2: 'Single', \n",
    "                       3: 'Others'}\n",
    "payment_status = {-2: 'Unknown',\n",
    "                  -1: 'Payed duly',\n",
    "                  0: 'Unknown',\n",
    "                  1: 'Payment delayed 1 month',\n",
    "                  2: 'Payment delayed 2 months',\n",
    "                  3: 'Payment delayed 3 months',\n",
    "                  4: 'Payment delayed 4 months',\n",
    "                  5: 'Payment delayed 5 months',\n",
    "                  6: 'Payment delayed 6 months',\n",
    "                  7: 'Payment delayed 7 months',\n",
    "                  8: 'Payment delayed 8 months',\n",
    "                  9: 'Payment delayed >= 9 months'}\n",
    "\n",
    "# 숫자로된 인코딩을 문자열로 변환\n",
    "df.sex = df.sex.map(gender_dict)\n",
    "df.education = df.education.map(education_dict)\n",
    "df.marriage = df.marriage.map(marital_status_dict)\n",
    "df.info()"
   ]
  },
  {
   "cell_type": "code",
   "execution_count": 10,
   "metadata": {
    "ExecuteTime": {
     "end_time": "2019-10-29T16:46:22.737466Z",
     "start_time": "2019-10-29T16:46:20.151921Z"
    },
    "colab": {
     "base_uri": "https://localhost:8080/"
    },
    "hidden": true,
    "id": "qWAgmnqVqywQ",
    "outputId": "cd88b769-9098-4eb8-9877-f9a827871744"
   },
   "outputs": [
    {
     "name": "stdout",
     "output_type": "stream",
     "text": [
      "<class 'pandas.core.frame.DataFrame'>\n",
      "Int64Index: 30000 entries, 1 to 30000\n",
      "Data columns (total 24 columns):\n",
      " #   Column                      Non-Null Count  Dtype \n",
      "---  ------                      --------------  ----- \n",
      " 0   limit_bal                   30000 non-null  int64 \n",
      " 1   sex                         30000 non-null  object\n",
      " 2   education                   30000 non-null  object\n",
      " 3   marriage                    30000 non-null  object\n",
      " 4   age                         30000 non-null  int64 \n",
      " 5   payment_status_sep          30000 non-null  object\n",
      " 6   payment_status_aug          30000 non-null  object\n",
      " 7   payment_status_jul          30000 non-null  object\n",
      " 8   payment_status_jun          30000 non-null  object\n",
      " 9   payment_status_may          30000 non-null  object\n",
      " 10  payment_status_apr          30000 non-null  object\n",
      " 11  bill_statement_sep          30000 non-null  int64 \n",
      " 12  bill_statement_aug          30000 non-null  int64 \n",
      " 13  bill_statement_jul          30000 non-null  int64 \n",
      " 14  bill_statement_jun          30000 non-null  int64 \n",
      " 15  bill_statement_may          30000 non-null  int64 \n",
      " 16  bill_statement_apr          30000 non-null  int64 \n",
      " 17  previous_payment_sep        30000 non-null  int64 \n",
      " 18  previous_payment_aug        30000 non-null  int64 \n",
      " 19  previous_payment_jul        30000 non-null  int64 \n",
      " 20  previous_payment_jun        30000 non-null  int64 \n",
      " 21  previous_payment_may        30000 non-null  int64 \n",
      " 22  previous_payment_apr        30000 non-null  int64 \n",
      " 23  default_payment_next_month  30000 non-null  int64 \n",
      "dtypes: int64(15), object(9)\n",
      "memory usage: 5.7+ MB\n"
     ]
    }
   ],
   "source": [
    "for column in [x for x in df.columns if ('status' in x)]:\n",
    "    df[column] = df[column].map(payment_status)\n",
    "df.info()"
   ]
  },
  {
   "cell_type": "code",
   "execution_count": 11,
   "metadata": {},
   "outputs": [
    {
     "data": {
      "text/html": [
       "<div>\n",
       "<style scoped>\n",
       "    .dataframe tbody tr th:only-of-type {\n",
       "        vertical-align: middle;\n",
       "    }\n",
       "\n",
       "    .dataframe tbody tr th {\n",
       "        vertical-align: top;\n",
       "    }\n",
       "\n",
       "    .dataframe thead th {\n",
       "        text-align: right;\n",
       "    }\n",
       "</style>\n",
       "<table border=\"1\" class=\"dataframe\">\n",
       "  <thead>\n",
       "    <tr style=\"text-align: right;\">\n",
       "      <th>ID</th>\n",
       "      <th>1</th>\n",
       "      <th>2</th>\n",
       "      <th>3</th>\n",
       "    </tr>\n",
       "  </thead>\n",
       "  <tbody>\n",
       "    <tr>\n",
       "      <th>limit_bal</th>\n",
       "      <td>20000</td>\n",
       "      <td>120000</td>\n",
       "      <td>90000</td>\n",
       "    </tr>\n",
       "    <tr>\n",
       "      <th>sex</th>\n",
       "      <td>Female</td>\n",
       "      <td>Female</td>\n",
       "      <td>Female</td>\n",
       "    </tr>\n",
       "    <tr>\n",
       "      <th>education</th>\n",
       "      <td>University</td>\n",
       "      <td>University</td>\n",
       "      <td>University</td>\n",
       "    </tr>\n",
       "    <tr>\n",
       "      <th>marriage</th>\n",
       "      <td>Married</td>\n",
       "      <td>Single</td>\n",
       "      <td>Single</td>\n",
       "    </tr>\n",
       "    <tr>\n",
       "      <th>age</th>\n",
       "      <td>24</td>\n",
       "      <td>26</td>\n",
       "      <td>34</td>\n",
       "    </tr>\n",
       "    <tr>\n",
       "      <th>payment_status_sep</th>\n",
       "      <td>Payment delayed 2 months</td>\n",
       "      <td>Payed duly</td>\n",
       "      <td>Unknown</td>\n",
       "    </tr>\n",
       "    <tr>\n",
       "      <th>payment_status_aug</th>\n",
       "      <td>Payment delayed 2 months</td>\n",
       "      <td>Payment delayed 2 months</td>\n",
       "      <td>Unknown</td>\n",
       "    </tr>\n",
       "    <tr>\n",
       "      <th>payment_status_jul</th>\n",
       "      <td>Payed duly</td>\n",
       "      <td>Unknown</td>\n",
       "      <td>Unknown</td>\n",
       "    </tr>\n",
       "    <tr>\n",
       "      <th>payment_status_jun</th>\n",
       "      <td>Payed duly</td>\n",
       "      <td>Unknown</td>\n",
       "      <td>Unknown</td>\n",
       "    </tr>\n",
       "    <tr>\n",
       "      <th>payment_status_may</th>\n",
       "      <td>Unknown</td>\n",
       "      <td>Unknown</td>\n",
       "      <td>Unknown</td>\n",
       "    </tr>\n",
       "    <tr>\n",
       "      <th>payment_status_apr</th>\n",
       "      <td>Unknown</td>\n",
       "      <td>Payment delayed 2 months</td>\n",
       "      <td>Unknown</td>\n",
       "    </tr>\n",
       "    <tr>\n",
       "      <th>bill_statement_sep</th>\n",
       "      <td>3913</td>\n",
       "      <td>2682</td>\n",
       "      <td>29239</td>\n",
       "    </tr>\n",
       "    <tr>\n",
       "      <th>bill_statement_aug</th>\n",
       "      <td>3102</td>\n",
       "      <td>1725</td>\n",
       "      <td>14027</td>\n",
       "    </tr>\n",
       "    <tr>\n",
       "      <th>bill_statement_jul</th>\n",
       "      <td>689</td>\n",
       "      <td>2682</td>\n",
       "      <td>13559</td>\n",
       "    </tr>\n",
       "    <tr>\n",
       "      <th>bill_statement_jun</th>\n",
       "      <td>0</td>\n",
       "      <td>3272</td>\n",
       "      <td>14331</td>\n",
       "    </tr>\n",
       "    <tr>\n",
       "      <th>bill_statement_may</th>\n",
       "      <td>0</td>\n",
       "      <td>3455</td>\n",
       "      <td>14948</td>\n",
       "    </tr>\n",
       "    <tr>\n",
       "      <th>bill_statement_apr</th>\n",
       "      <td>0</td>\n",
       "      <td>3261</td>\n",
       "      <td>15549</td>\n",
       "    </tr>\n",
       "    <tr>\n",
       "      <th>previous_payment_sep</th>\n",
       "      <td>0</td>\n",
       "      <td>0</td>\n",
       "      <td>1518</td>\n",
       "    </tr>\n",
       "    <tr>\n",
       "      <th>previous_payment_aug</th>\n",
       "      <td>689</td>\n",
       "      <td>1000</td>\n",
       "      <td>1500</td>\n",
       "    </tr>\n",
       "    <tr>\n",
       "      <th>previous_payment_jul</th>\n",
       "      <td>0</td>\n",
       "      <td>1000</td>\n",
       "      <td>1000</td>\n",
       "    </tr>\n",
       "    <tr>\n",
       "      <th>previous_payment_jun</th>\n",
       "      <td>0</td>\n",
       "      <td>1000</td>\n",
       "      <td>1000</td>\n",
       "    </tr>\n",
       "    <tr>\n",
       "      <th>previous_payment_may</th>\n",
       "      <td>0</td>\n",
       "      <td>0</td>\n",
       "      <td>1000</td>\n",
       "    </tr>\n",
       "    <tr>\n",
       "      <th>previous_payment_apr</th>\n",
       "      <td>0</td>\n",
       "      <td>2000</td>\n",
       "      <td>5000</td>\n",
       "    </tr>\n",
       "    <tr>\n",
       "      <th>default_payment_next_month</th>\n",
       "      <td>1</td>\n",
       "      <td>1</td>\n",
       "      <td>0</td>\n",
       "    </tr>\n",
       "  </tbody>\n",
       "</table>\n",
       "</div>"
      ],
      "text/plain": [
       "ID                                                 1  \\\n",
       "limit_bal                                      20000   \n",
       "sex                                           Female   \n",
       "education                                 University   \n",
       "marriage                                     Married   \n",
       "age                                               24   \n",
       "payment_status_sep          Payment delayed 2 months   \n",
       "payment_status_aug          Payment delayed 2 months   \n",
       "payment_status_jul                        Payed duly   \n",
       "payment_status_jun                        Payed duly   \n",
       "payment_status_may                           Unknown   \n",
       "payment_status_apr                           Unknown   \n",
       "bill_statement_sep                              3913   \n",
       "bill_statement_aug                              3102   \n",
       "bill_statement_jul                               689   \n",
       "bill_statement_jun                                 0   \n",
       "bill_statement_may                                 0   \n",
       "bill_statement_apr                                 0   \n",
       "previous_payment_sep                               0   \n",
       "previous_payment_aug                             689   \n",
       "previous_payment_jul                               0   \n",
       "previous_payment_jun                               0   \n",
       "previous_payment_may                               0   \n",
       "previous_payment_apr                               0   \n",
       "default_payment_next_month                         1   \n",
       "\n",
       "ID                                                 2           3  \n",
       "limit_bal                                     120000       90000  \n",
       "sex                                           Female      Female  \n",
       "education                                 University  University  \n",
       "marriage                                      Single      Single  \n",
       "age                                               26          34  \n",
       "payment_status_sep                        Payed duly     Unknown  \n",
       "payment_status_aug          Payment delayed 2 months     Unknown  \n",
       "payment_status_jul                           Unknown     Unknown  \n",
       "payment_status_jun                           Unknown     Unknown  \n",
       "payment_status_may                           Unknown     Unknown  \n",
       "payment_status_apr          Payment delayed 2 months     Unknown  \n",
       "bill_statement_sep                              2682       29239  \n",
       "bill_statement_aug                              1725       14027  \n",
       "bill_statement_jul                              2682       13559  \n",
       "bill_statement_jun                              3272       14331  \n",
       "bill_statement_may                              3455       14948  \n",
       "bill_statement_apr                              3261       15549  \n",
       "previous_payment_sep                               0        1518  \n",
       "previous_payment_aug                            1000        1500  \n",
       "previous_payment_jul                            1000        1000  \n",
       "previous_payment_jun                            1000        1000  \n",
       "previous_payment_may                               0        1000  \n",
       "previous_payment_apr                            2000        5000  \n",
       "default_payment_next_month                         1           0  "
      ]
     },
     "execution_count": 11,
     "metadata": {},
     "output_type": "execute_result"
    }
   ],
   "source": [
    "df[:3].T"
   ]
  },
  {
   "cell_type": "markdown",
   "metadata": {},
   "source": [
    "## 특성 추출"
   ]
  },
  {
   "cell_type": "code",
   "execution_count": 12,
   "metadata": {},
   "outputs": [],
   "source": [
    "df_raw = df.copy()"
   ]
  },
  {
   "cell_type": "code",
   "execution_count": 13,
   "metadata": {
    "ExecuteTime": {
     "end_time": "2020-01-28T13:03:03.595243Z",
     "start_time": "2020-01-28T13:03:03.586791Z"
    },
    "id": "VXJHIPLcqywS"
   },
   "outputs": [],
   "source": [
    "X = df.copy()\n",
    "y = X.pop('default_payment_next_month')"
   ]
  },
  {
   "cell_type": "code",
   "execution_count": 14,
   "metadata": {
    "ExecuteTime": {
     "end_time": "2020-01-28T13:39:59.656199Z",
     "start_time": "2020-01-28T13:39:59.647502Z"
    },
    "colab": {
     "base_uri": "https://localhost:8080/"
    },
    "id": "ASAnvvq3qywW",
    "outputId": "aa947eb8-fba3-443d-e61b-06c137080385"
   },
   "outputs": [
    {
     "data": {
      "text/plain": [
       "['sex',\n",
       " 'education',\n",
       " 'marriage',\n",
       " 'payment_status_sep',\n",
       " 'payment_status_aug',\n",
       " 'payment_status_jul',\n",
       " 'payment_status_jun',\n",
       " 'payment_status_may',\n",
       " 'payment_status_apr']"
      ]
     },
     "execution_count": 14,
     "metadata": {},
     "output_type": "execute_result"
    }
   ],
   "source": [
    "cat_features = X.select_dtypes(include='object').columns.to_list()\n",
    "cat_features"
   ]
  },
  {
   "cell_type": "code",
   "execution_count": 15,
   "metadata": {
    "colab": {
     "base_uri": "https://localhost:8080/"
    },
    "id": "479e5UOQ0Uup",
    "outputId": "b9cef5d5-b6ee-4e2f-8514-d2a28cc178ba"
   },
   "outputs": [
    {
     "data": {
      "text/plain": [
       "['limit_bal',\n",
       " 'age',\n",
       " 'bill_statement_sep',\n",
       " 'bill_statement_aug',\n",
       " 'bill_statement_jul',\n",
       " 'bill_statement_jun',\n",
       " 'bill_statement_may',\n",
       " 'bill_statement_apr',\n",
       " 'previous_payment_sep',\n",
       " 'previous_payment_aug',\n",
       " 'previous_payment_jul',\n",
       " 'previous_payment_jun',\n",
       " 'previous_payment_may',\n",
       " 'previous_payment_apr']"
      ]
     },
     "execution_count": 15,
     "metadata": {},
     "output_type": "execute_result"
    }
   ],
   "source": [
    "cont_features = X.select_dtypes(include=['int', 'float']).columns.to_list()\n",
    "cont_features"
   ]
  },
  {
   "cell_type": "markdown",
   "metadata": {},
   "source": [
    "### 카테고리 인코딩"
   ]
  },
  {
   "cell_type": "code",
   "execution_count": 16,
   "metadata": {
    "ExecuteTime": {
     "end_time": "2020-01-22T17:59:14.125399Z",
     "start_time": "2020-01-22T17:59:14.068336Z"
    },
    "id": "5Xlz4xASqywW"
   },
   "outputs": [
    {
     "data": {
      "text/plain": [
       "(30000, 81)"
      ]
     },
     "execution_count": 16,
     "metadata": {},
     "output_type": "execute_result"
    }
   ],
   "source": [
    "X_cat = pd.get_dummies(X, columns=cat_features)\n",
    "X_cat.shape"
   ]
  },
  {
   "cell_type": "markdown",
   "metadata": {},
   "source": [
    "### 로그변환"
   ]
  },
  {
   "cell_type": "code",
   "execution_count": 17,
   "metadata": {},
   "outputs": [
    {
     "data": {
      "text/plain": [
       "<AxesSubplot:xlabel='limit_bal', ylabel='Density'>"
      ]
     },
     "execution_count": 17,
     "metadata": {},
     "output_type": "execute_result"
    },
    {
     "data": {
      "image/png": "[encoded data removed]",
      "text/plain": [
       "<Figure size 576x432 with 1 Axes>"
      ]
     },
     "metadata": {
      "image/png": {
       "height": 381,
       "width": 487
      },
      "needs_background": "light"
     },
     "output_type": "display_data"
    }
   ],
   "source": [
    "sns.distplot(X_cat.limit_bal)"
   ]
  },
  {
   "cell_type": "code",
   "execution_count": 18,
   "metadata": {},
   "outputs": [
    {
     "data": {
      "text/plain": [
       "<AxesSubplot:xlabel='limit_bal', ylabel='Density'>"
      ]
     },
     "execution_count": 18,
     "metadata": {},
     "output_type": "execute_result"
    },
    {
     "data": {
      "image/png": "[encoded data removed]",
      "text/plain": [
       "<Figure size 576x432 with 1 Axes>"
      ]
     },
     "metadata": {
      "image/png": {
       "height": 371,
       "width": 497
      },
      "needs_background": "light"
     },
     "output_type": "display_data"
    }
   ],
   "source": [
    "sns.distplot(np.log(X_cat.limit_bal))"
   ]
  },
  {
   "cell_type": "code",
   "execution_count": 20,
   "metadata": {},
   "outputs": [
    {
     "data": {
      "text/html": [
       "<div>\n",
       "<style scoped>\n",
       "    .dataframe tbody tr th:only-of-type {\n",
       "        vertical-align: middle;\n",
       "    }\n",
       "\n",
       "    .dataframe tbody tr th {\n",
       "        vertical-align: top;\n",
       "    }\n",
       "\n",
       "    .dataframe thead th {\n",
       "        text-align: right;\n",
       "    }\n",
       "</style>\n",
       "<table border=\"1\" class=\"dataframe\">\n",
       "  <thead>\n",
       "    <tr style=\"text-align: right;\">\n",
       "      <th></th>\n",
       "      <th>limit_bal</th>\n",
       "      <th>age</th>\n",
       "      <th>bill_statement_sep</th>\n",
       "      <th>bill_statement_aug</th>\n",
       "      <th>bill_statement_jul</th>\n",
       "      <th>bill_statement_jun</th>\n",
       "      <th>bill_statement_may</th>\n",
       "      <th>bill_statement_apr</th>\n",
       "      <th>previous_payment_sep</th>\n",
       "      <th>previous_payment_aug</th>\n",
       "      <th>...</th>\n",
       "      <th>payment_status_may_Unknown</th>\n",
       "      <th>payment_status_apr_Payed duly</th>\n",
       "      <th>payment_status_apr_Payment delayed 2 months</th>\n",
       "      <th>payment_status_apr_Payment delayed 3 months</th>\n",
       "      <th>payment_status_apr_Payment delayed 4 months</th>\n",
       "      <th>payment_status_apr_Payment delayed 5 months</th>\n",
       "      <th>payment_status_apr_Payment delayed 6 months</th>\n",
       "      <th>payment_status_apr_Payment delayed 7 months</th>\n",
       "      <th>payment_status_apr_Payment delayed 8 months</th>\n",
       "      <th>payment_status_apr_Unknown</th>\n",
       "    </tr>\n",
       "    <tr>\n",
       "      <th>ID</th>\n",
       "      <th></th>\n",
       "      <th></th>\n",
       "      <th></th>\n",
       "      <th></th>\n",
       "      <th></th>\n",
       "      <th></th>\n",
       "      <th></th>\n",
       "      <th></th>\n",
       "      <th></th>\n",
       "      <th></th>\n",
       "      <th></th>\n",
       "      <th></th>\n",
       "      <th></th>\n",
       "      <th></th>\n",
       "      <th></th>\n",
       "      <th></th>\n",
       "      <th></th>\n",
       "      <th></th>\n",
       "      <th></th>\n",
       "      <th></th>\n",
       "      <th></th>\n",
       "    </tr>\n",
       "  </thead>\n",
       "  <tbody>\n",
       "    <tr>\n",
       "      <th>1</th>\n",
       "      <td>2.292887</td>\n",
       "      <td>24</td>\n",
       "      <td>3913</td>\n",
       "      <td>3102</td>\n",
       "      <td>689</td>\n",
       "      <td>0</td>\n",
       "      <td>0</td>\n",
       "      <td>0</td>\n",
       "      <td>0</td>\n",
       "      <td>689</td>\n",
       "      <td>...</td>\n",
       "      <td>1</td>\n",
       "      <td>0</td>\n",
       "      <td>0</td>\n",
       "      <td>0</td>\n",
       "      <td>0</td>\n",
       "      <td>0</td>\n",
       "      <td>0</td>\n",
       "      <td>0</td>\n",
       "      <td>0</td>\n",
       "      <td>1</td>\n",
       "    </tr>\n",
       "    <tr>\n",
       "      <th>2</th>\n",
       "      <td>2.459183</td>\n",
       "      <td>26</td>\n",
       "      <td>2682</td>\n",
       "      <td>1725</td>\n",
       "      <td>2682</td>\n",
       "      <td>3272</td>\n",
       "      <td>3455</td>\n",
       "      <td>3261</td>\n",
       "      <td>0</td>\n",
       "      <td>1000</td>\n",
       "      <td>...</td>\n",
       "      <td>1</td>\n",
       "      <td>0</td>\n",
       "      <td>1</td>\n",
       "      <td>0</td>\n",
       "      <td>0</td>\n",
       "      <td>0</td>\n",
       "      <td>0</td>\n",
       "      <td>0</td>\n",
       "      <td>0</td>\n",
       "      <td>0</td>\n",
       "    </tr>\n",
       "    <tr>\n",
       "      <th>3</th>\n",
       "      <td>2.434277</td>\n",
       "      <td>34</td>\n",
       "      <td>29239</td>\n",
       "      <td>14027</td>\n",
       "      <td>13559</td>\n",
       "      <td>14331</td>\n",
       "      <td>14948</td>\n",
       "      <td>15549</td>\n",
       "      <td>1518</td>\n",
       "      <td>1500</td>\n",
       "      <td>...</td>\n",
       "      <td>1</td>\n",
       "      <td>0</td>\n",
       "      <td>0</td>\n",
       "      <td>0</td>\n",
       "      <td>0</td>\n",
       "      <td>0</td>\n",
       "      <td>0</td>\n",
       "      <td>0</td>\n",
       "      <td>0</td>\n",
       "      <td>1</td>\n",
       "    </tr>\n",
       "  </tbody>\n",
       "</table>\n",
       "<p>3 rows × 81 columns</p>\n",
       "</div>"
      ],
      "text/plain": [
       "    limit_bal  age  bill_statement_sep  bill_statement_aug  \\\n",
       "ID                                                           \n",
       "1    2.292887   24                3913                3102   \n",
       "2    2.459183   26                2682                1725   \n",
       "3    2.434277   34               29239               14027   \n",
       "\n",
       "    bill_statement_jul  bill_statement_jun  bill_statement_may  \\\n",
       "ID                                                               \n",
       "1                  689                   0                   0   \n",
       "2                 2682                3272                3455   \n",
       "3                13559               14331               14948   \n",
       "\n",
       "    bill_statement_apr  previous_payment_sep  previous_payment_aug  ...  \\\n",
       "ID                                                                  ...   \n",
       "1                    0                     0                   689  ...   \n",
       "2                 3261                     0                  1000  ...   \n",
       "3                15549                  1518                  1500  ...   \n",
       "\n",
       "    payment_status_may_Unknown  payment_status_apr_Payed duly  \\\n",
       "ID                                                              \n",
       "1                            1                              0   \n",
       "2                            1                              0   \n",
       "3                            1                              0   \n",
       "\n",
       "    payment_status_apr_Payment delayed 2 months  \\\n",
       "ID                                                \n",
       "1                                             0   \n",
       "2                                             1   \n",
       "3                                             0   \n",
       "\n",
       "    payment_status_apr_Payment delayed 3 months  \\\n",
       "ID                                                \n",
       "1                                             0   \n",
       "2                                             0   \n",
       "3                                             0   \n",
       "\n",
       "    payment_status_apr_Payment delayed 4 months  \\\n",
       "ID                                                \n",
       "1                                             0   \n",
       "2                                             0   \n",
       "3                                             0   \n",
       "\n",
       "    payment_status_apr_Payment delayed 5 months  \\\n",
       "ID                                                \n",
       "1                                             0   \n",
       "2                                             0   \n",
       "3                                             0   \n",
       "\n",
       "    payment_status_apr_Payment delayed 6 months  \\\n",
       "ID                                                \n",
       "1                                             0   \n",
       "2                                             0   \n",
       "3                                             0   \n",
       "\n",
       "    payment_status_apr_Payment delayed 7 months  \\\n",
       "ID                                                \n",
       "1                                             0   \n",
       "2                                             0   \n",
       "3                                             0   \n",
       "\n",
       "    payment_status_apr_Payment delayed 8 months  payment_status_apr_Unknown  \n",
       "ID                                                                           \n",
       "1                                             0                           1  \n",
       "2                                             0                           0  \n",
       "3                                             0                           1  \n",
       "\n",
       "[3 rows x 81 columns]"
      ]
     },
     "execution_count": 20,
     "metadata": {},
     "output_type": "execute_result"
    }
   ],
   "source": [
    "X_cat.limit_bal = np.log(X_cat.limit_bal)\n",
    "X_cat[:3]"
   ]
  },
  {
   "cell_type": "markdown",
   "metadata": {},
   "source": [
    "## 모델 성능 비교"
   ]
  },
  {
   "cell_type": "code",
   "execution_count": 24,
   "metadata": {
    "id": "fmdol5nWqywX"
   },
   "outputs": [],
   "source": [
    "def show_clf_result(y_test, y_pred):\n",
    "    print(confusion_matrix(y_test, y_pred))\n",
    "    print(classification_report(y_test, y_pred))"
   ]
  },
  {
   "cell_type": "markdown",
   "metadata": {},
   "source": [
    "- 스케일링 하지 않은 데이터 사용"
   ]
  },
  {
   "cell_type": "code",
   "execution_count": 25,
   "metadata": {},
   "outputs": [],
   "source": [
    "X_train, X_test, y_train, y_test = train_test_split(X_cat, y)"
   ]
  },
  {
   "cell_type": "code",
   "execution_count": 26,
   "metadata": {
    "id": "16U47kfLqywY"
   },
   "outputs": [],
   "source": [
    "from lightgbm import LGBMClassifier"
   ]
  },
  {
   "cell_type": "code",
   "execution_count": 27,
   "metadata": {
    "colab": {
     "base_uri": "https://localhost:8080/"
    },
    "id": "7sO1cF6nqywY",
    "outputId": "315c6cc0-98ca-42e9-d039-01d8e5712ca4",
    "scrolled": true
   },
   "outputs": [
    {
     "name": "stdout",
     "output_type": "stream",
     "text": [
      "[[5529  317]\n",
      " [1057  597]]\n",
      "              precision    recall  f1-score   support\n",
      "\n",
      "           0       0.84      0.95      0.89      5846\n",
      "           1       0.65      0.36      0.46      1654\n",
      "\n",
      "    accuracy                           0.82      7500\n",
      "   macro avg       0.75      0.65      0.68      7500\n",
      "weighted avg       0.80      0.82      0.80      7500\n",
      "\n"
     ]
    }
   ],
   "source": [
    "lgbm = LGBMClassifier()\n",
    "lgbm.fit(X_train, y_train, early_stopping_rounds=5, eval_set=(X_test, y_test), verbose=False)\n",
    "y_pred = lgbm.predict(X_test)\n",
    "show_clf_result(y_test, y_pred)"
   ]
  },
  {
   "cell_type": "code",
   "execution_count": 28,
   "metadata": {
    "id": "MZKh_IpXsDTx"
   },
   "outputs": [],
   "source": [
    "proba_1 = lgbm.predict_proba(X_test)[:,1]"
   ]
  },
  {
   "cell_type": "code",
   "execution_count": 29,
   "metadata": {},
   "outputs": [],
   "source": [
    "def plot_feature_weight(feature, weight, N=20):\n",
    "    plt.figure(figsize=(8,int(N/2)))\n",
    "    W = pd.DataFrame({'feature':feature[:N],'weight':weight[:N]})\n",
    "    W.sort_values('weight', inplace=True)\n",
    "    plt.barh(W.feature, W.weight)"
   ]
  },
  {
   "cell_type": "code",
   "execution_count": 30,
   "metadata": {
    "colab": {
     "base_uri": "https://localhost:8080/",
     "height": 819
    },
    "id": "y03CU8DOubhi",
    "outputId": "b7c9ff31-9dda-4606-86e1-3e6f028f30a9"
   },
   "outputs": [
    {
     "data": {
      "image/png": "[encoded data removed]",
      "text/plain": [
       "<Figure size 576x1080 with 1 Axes>"
      ]
     },
     "metadata": {
      "image/png": {
       "height": 846,
       "width": 714
      },
      "needs_background": "light"
     },
     "output_type": "display_data"
    }
   ],
   "source": [
    "plot_feature_weight(X_cat.columns, lgbm.feature_importances_, 30)"
   ]
  },
  {
   "cell_type": "markdown",
   "metadata": {},
   "source": [
    "## (연습) 디폴트 가능성이 가장 높은 사람 10명을 찾으시오\n",
    "- ID, 나이, limit_bal 값을 확인하시오"
   ]
  },
  {
   "cell_type": "code",
   "execution_count": 31,
   "metadata": {},
   "outputs": [
    {
     "data": {
      "text/plain": [
       "[16555, 17248, 17034, 22760, 17863, 24346, 21013, 16040, 17875, 7789]"
      ]
     },
     "execution_count": 31,
     "metadata": {},
     "output_type": "execute_result"
    }
   ],
   "source": [
    "X_test2 = X_test.copy()\n",
    "X_test2['proba_1'] = proba_1\n",
    "default_id = X_test2.sort_values('proba_1', ascending=False)[:10].index.tolist()\n",
    "default_id"
   ]
  },
  {
   "cell_type": "markdown",
   "metadata": {},
   "source": [
    "## (연습) 디폴트를 찾는 리콜이 0.95 이상이 되는 예측 모델을 만드시오"
   ]
  },
  {
   "cell_type": "code",
   "execution_count": 32,
   "metadata": {
    "colab": {
     "base_uri": "https://localhost:8080/"
    },
    "id": "D332doJ6wIOF",
    "outputId": "0a60f675-e405-4539-8a78-287692246e28"
   },
   "outputs": [
    {
     "name": "stdout",
     "output_type": "stream",
     "text": [
      "[[1370 4476]\n",
      " [  83 1571]]\n",
      "              precision    recall  f1-score   support\n",
      "\n",
      "           0       0.94      0.23      0.38      5846\n",
      "           1       0.26      0.95      0.41      1654\n",
      "\n",
      "    accuracy                           0.39      7500\n",
      "   macro avg       0.60      0.59      0.39      7500\n",
      "weighted avg       0.79      0.39      0.38      7500\n",
      "\n"
     ]
    }
   ],
   "source": [
    "y_pred_high_recall = proba_1 > 0.08\n",
    "show_clf_result(y_test, y_pred_high_recall)"
   ]
  },
  {
   "cell_type": "code",
   "execution_count": 64,
   "metadata": {},
   "outputs": [
    {
     "data": {
      "text/plain": [
       "(30000, 81)"
      ]
     },
     "execution_count": 64,
     "metadata": {},
     "output_type": "execute_result"
    }
   ],
   "source": [
    "X_cat.shape"
   ]
  },
  {
   "cell_type": "markdown",
   "metadata": {},
   "source": [
    "## 특성중요도 선택"
   ]
  },
  {
   "cell_type": "code",
   "execution_count": 33,
   "metadata": {},
   "outputs": [
    {
     "data": {
      "text/html": [
       "<div>\n",
       "<style scoped>\n",
       "    .dataframe tbody tr th:only-of-type {\n",
       "        vertical-align: middle;\n",
       "    }\n",
       "\n",
       "    .dataframe tbody tr th {\n",
       "        vertical-align: top;\n",
       "    }\n",
       "\n",
       "    .dataframe thead th {\n",
       "        text-align: right;\n",
       "    }\n",
       "</style>\n",
       "<table border=\"1\" class=\"dataframe\">\n",
       "  <thead>\n",
       "    <tr style=\"text-align: right;\">\n",
       "      <th></th>\n",
       "      <th>feature</th>\n",
       "      <th>weight</th>\n",
       "    </tr>\n",
       "  </thead>\n",
       "  <tbody>\n",
       "    <tr>\n",
       "      <th>2</th>\n",
       "      <td>bill_statement_sep</td>\n",
       "      <td>108</td>\n",
       "    </tr>\n",
       "    <tr>\n",
       "      <th>0</th>\n",
       "      <td>limit_bal</td>\n",
       "      <td>103</td>\n",
       "    </tr>\n",
       "    <tr>\n",
       "      <th>13</th>\n",
       "      <td>previous_payment_apr</td>\n",
       "      <td>80</td>\n",
       "    </tr>\n",
       "    <tr>\n",
       "      <th>9</th>\n",
       "      <td>previous_payment_aug</td>\n",
       "      <td>79</td>\n",
       "    </tr>\n",
       "    <tr>\n",
       "      <th>8</th>\n",
       "      <td>previous_payment_sep</td>\n",
       "      <td>74</td>\n",
       "    </tr>\n",
       "    <tr>\n",
       "      <th>...</th>\n",
       "      <td>...</td>\n",
       "      <td>...</td>\n",
       "    </tr>\n",
       "    <tr>\n",
       "      <th>58</th>\n",
       "      <td>payment_status_jun_Payment delayed 5 months</td>\n",
       "      <td>0</td>\n",
       "    </tr>\n",
       "    <tr>\n",
       "      <th>59</th>\n",
       "      <td>payment_status_jun_Payment delayed 6 months</td>\n",
       "      <td>0</td>\n",
       "    </tr>\n",
       "    <tr>\n",
       "      <th>60</th>\n",
       "      <td>payment_status_jun_Payment delayed 7 months</td>\n",
       "      <td>0</td>\n",
       "    </tr>\n",
       "    <tr>\n",
       "      <th>61</th>\n",
       "      <td>payment_status_jun_Payment delayed 8 months</td>\n",
       "      <td>0</td>\n",
       "    </tr>\n",
       "    <tr>\n",
       "      <th>40</th>\n",
       "      <td>payment_status_aug_Payment delayed 7 months</td>\n",
       "      <td>0</td>\n",
       "    </tr>\n",
       "  </tbody>\n",
       "</table>\n",
       "<p>81 rows × 2 columns</p>\n",
       "</div>"
      ],
      "text/plain": [
       "                                        feature  weight\n",
       "2                            bill_statement_sep     108\n",
       "0                                     limit_bal     103\n",
       "13                         previous_payment_apr      80\n",
       "9                          previous_payment_aug      79\n",
       "8                          previous_payment_sep      74\n",
       "..                                          ...     ...\n",
       "58  payment_status_jun_Payment delayed 5 months       0\n",
       "59  payment_status_jun_Payment delayed 6 months       0\n",
       "60  payment_status_jun_Payment delayed 7 months       0\n",
       "61  payment_status_jun_Payment delayed 8 months       0\n",
       "40  payment_status_aug_Payment delayed 7 months       0\n",
       "\n",
       "[81 rows x 2 columns]"
      ]
     },
     "execution_count": 33,
     "metadata": {},
     "output_type": "execute_result"
    }
   ],
   "source": [
    "W = pd.DataFrame({'feature':X_cat.columns,'weight':lgbm.feature_importances_})\n",
    "W.sort_values('weight', inplace=True, ascending=False)\n",
    "W"
   ]
  },
  {
   "cell_type": "code",
   "execution_count": 39,
   "metadata": {},
   "outputs": [
    {
     "data": {
      "text/plain": [
       "['bill_statement_sep',\n",
       " 'limit_bal',\n",
       " 'previous_payment_apr',\n",
       " 'previous_payment_aug',\n",
       " 'previous_payment_sep',\n",
       " 'age',\n",
       " 'bill_statement_aug',\n",
       " 'previous_payment_jul',\n",
       " 'previous_payment_may',\n",
       " 'previous_payment_jun',\n",
       " 'bill_statement_apr',\n",
       " 'bill_statement_jun',\n",
       " 'bill_statement_jul',\n",
       " 'bill_statement_may',\n",
       " 'payment_status_sep_Payment delayed 2 months',\n",
       " 'payment_status_jun_Payment delayed 2 months',\n",
       " 'payment_status_sep_Unknown',\n",
       " 'payment_status_may_Payment delayed 2 months',\n",
       " 'sex_Female',\n",
       " 'payment_status_apr_Payment delayed 2 months']"
      ]
     },
     "execution_count": 39,
     "metadata": {},
     "output_type": "execute_result"
    }
   ],
   "source": [
    "features = W.feature[:20].values.tolist()\n",
    "features"
   ]
  },
  {
   "cell_type": "code",
   "execution_count": 40,
   "metadata": {},
   "outputs": [
    {
     "data": {
      "text/plain": [
       "(30000, 20)"
      ]
     },
     "execution_count": 40,
     "metadata": {},
     "output_type": "execute_result"
    }
   ],
   "source": [
    "X_10 = X_cat.copy()[features]\n",
    "X_10.shape"
   ]
  },
  {
   "cell_type": "code",
   "execution_count": 41,
   "metadata": {},
   "outputs": [
    {
     "name": "stdout",
     "output_type": "stream",
     "text": [
      "[[5527  315]\n",
      " [1026  632]]\n",
      "              precision    recall  f1-score   support\n",
      "\n",
      "           0       0.84      0.95      0.89      5842\n",
      "           1       0.67      0.38      0.49      1658\n",
      "\n",
      "    accuracy                           0.82      7500\n",
      "   macro avg       0.76      0.66      0.69      7500\n",
      "weighted avg       0.80      0.82      0.80      7500\n",
      "\n"
     ]
    }
   ],
   "source": [
    "X_train, X_test, y_train, y_test = train_test_split(X_10, y)\n",
    "\n",
    "lgbm.fit(X_train, y_train, early_stopping_rounds=5, eval_set=(X_test, y_test), verbose=False)\n",
    "y_pred = lgbm.predict(X_test)\n",
    "show_clf_result(y_test, y_pred)"
   ]
  },
  {
   "cell_type": "code",
   "execution_count": 42,
   "metadata": {},
   "outputs": [],
   "source": [
    "proba_1 = lgbm.predict_proba(X_test)[:,1]"
   ]
  },
  {
   "cell_type": "code",
   "execution_count": 43,
   "metadata": {},
   "outputs": [
    {
     "data": {
      "text/plain": [
       "[8773, 16933, 26606, 4337, 7789, 13407, 14245, 10804, 17847, 8468]"
      ]
     },
     "execution_count": 43,
     "metadata": {},
     "output_type": "execute_result"
    }
   ],
   "source": [
    "X_test2 = X_test.copy()\n",
    "X_test2['proba_1'] = proba_1\n",
    "default_id_20 = X_test2.sort_values('proba_1', ascending=False)[:10].index.tolist()\n",
    "default_id_20"
   ]
  },
  {
   "cell_type": "code",
   "execution_count": 44,
   "metadata": {},
   "outputs": [
    {
     "data": {
      "text/plain": [
       "1"
      ]
     },
     "execution_count": 44,
     "metadata": {},
     "output_type": "execute_result"
    }
   ],
   "source": [
    "len(set(default_id_20) & set(default_id))"
   ]
  },
  {
   "cell_type": "code",
   "execution_count": 45,
   "metadata": {},
   "outputs": [
    {
     "data": {
      "text/plain": [
       "{7789}"
      ]
     },
     "execution_count": 45,
     "metadata": {},
     "output_type": "execute_result"
    }
   ],
   "source": [
    "set(default_id_20) & set(default_id)"
   ]
  },
  {
   "cell_type": "code",
   "execution_count": null,
   "metadata": {},
   "outputs": [],
   "source": []
  }
 ],
 "metadata": {
  "colab": {
   "collapsed_sections": [],
   "name": "fn-default.ipynb",
   "provenance": []
  },
  "kernelspec": {
   "display_name": "Python 3",
   "language": "python",
   "name": "python3"
  },
  "language_info": {
   "codemirror_mode": {
    "name": "ipython",
    "version": 3
   },
   "file_extension": ".py",
   "mimetype": "text/x-python",
   "name": "python",
   "nbconvert_exporter": "python",
   "pygments_lexer": "ipython3",
   "version": "3.8.8"
  },
  "toc": {
   "base_numbering": 1,
   "nav_menu": {},
   "number_sections": false,
   "sideBar": true,
   "skip_h1_title": false,
   "title_cell": "Table of Contents",
   "title_sidebar": "Contents",
   "toc_cell": false,
   "toc_position": {
    "height": "calc(100% - 180px)",
    "left": "10px",
    "top": "150px",
    "width": "165px"
   },
   "toc_section_display": true,
   "toc_window_display": true
  },
  "varInspector": {
   "cols": {
    "lenName": 16,
    "lenType": 16,
    "lenVar": 40
   },
   "kernels_config": {
    "python": {
     "delete_cmd_postfix": "",
     "delete_cmd_prefix": "del ",
     "library": "var_list.py",
     "varRefreshCmd": "print(var_dic_list())"
    },
    "r": {
     "delete_cmd_postfix": ") ",
     "delete_cmd_prefix": "rm(",
     "library": "var_list.r",
     "varRefreshCmd": "cat(var_dic_list()) "
    }
   },
   "types_to_exclude": [
    "module",
    "function",
    "builtin_function_or_method",
    "instance",
    "_Feature"
   ],
   "window_display": false
  }
 },
 "nbformat": 4,
 "nbformat_minor": 1
}
