{
 "cells": [
  {
   "cell_type": "markdown",
   "metadata": {
    "id": "_hOsUA7a-jEv"
   },
   "source": [
    "# 신용카드 도용 탐지\n",
    "- 2013년 유럽의 카드 사용 내역 (2일간)\n",
    "- 불균형 데이터 처리\n",
    " - SMOTE\n",
    " - RandomOverSampler\n",
    " - ADASYN"
   ]
  },
  {
   "cell_type": "markdown",
   "metadata": {},
   "source": [
    "# 데이터\n",
    "## import"
   ]
  },
  {
   "cell_type": "code",
   "execution_count": 74,
   "metadata": {
    "id": "A-f0C62f-jEw"
   },
   "outputs": [],
   "source": [
    "import pandas as pd\n",
    "import numpy as np \n",
    "import matplotlib.pyplot as plt\n",
    "import warnings\n",
    "warnings.filterwarnings(\"ignore\")\n",
    "%matplotlib inline\n",
    "%config InlineBackend.figure_format = 'retina'"
   ]
  },
  {
   "cell_type": "code",
   "execution_count": 75,
   "metadata": {},
   "outputs": [],
   "source": [
    "# !pip install imblearn"
   ]
  },
  {
   "cell_type": "code",
   "execution_count": 76,
   "metadata": {
    "id": "8NpR7LJK5r5Q"
   },
   "outputs": [],
   "source": [
    "from sklearn.model_selection import train_test_split\n",
    "from sklearn.linear_model import LogisticRegression\n",
    "from sklearn.ensemble import RandomForestClassifier\n",
    "from lightgbm import LGBMClassifier\n",
    "from sklearn.metrics import precision_score, recall_score\n",
    "from sklearn.metrics import confusion_matrix, classification_report,roc_curve, roc_auc_score\n",
    "from sklearn.metrics import plot_precision_recall_curve,precision_recall_curve, average_precision_score\n",
    "from imblearn.over_sampling import SMOTE, SMOTENC, ADASYN, RandomOverSampler"
   ]
  },
  {
   "cell_type": "markdown",
   "metadata": {
    "id": "pPjzKYMFHh_y"
   },
   "source": [
    "- 데이터 다운로드 66M"
   ]
  },
  {
   "cell_type": "code",
   "execution_count": 4,
   "metadata": {
    "colab": {
     "base_uri": "https://localhost:8080/"
    },
    "id": "byRDjkDw-jEz",
    "outputId": "159f55cd-685b-4c7e-b8c3-b3ae69a1dac8",
    "scrolled": false
   },
   "outputs": [
    {
     "name": "stdout",
     "output_type": "stream",
     "text": [
      "  % Total    % Received % Xferd  Average Speed   Time    Time     Time  Current\n",
      "                                 Dload  Upload   Total   Spent    Left  Speed\n",
      "100   147  100   147    0     0     34      0  0:00:04  0:00:04 --:--:--    35\n",
      "100   143    0   143    0     0     23      0 --:--:--  0:00:05 --:--:--   171\n",
      "100   318  100   318    0     0     46      0  0:00:06  0:00:06 --:--:--     0\n",
      "100  1076    0  1076    0     0    135      0 --:--:--  0:00:07 --:--:--  1299\n",
      "100 65.9M  100 65.9M    0     0   963k      0  0:01:10  0:01:10 --:--:-- 3366k\n"
     ]
    }
   ],
   "source": [
    "!curl -L https://bit.ly/2nweJrO -o credit.csv.zip"
   ]
  },
  {
   "cell_type": "code",
   "execution_count": 77,
   "metadata": {
    "colab": {
     "base_uri": "https://localhost:8080/",
     "height": 180
    },
    "id": "oeErgcW8-jE4",
    "outputId": "5f64298d-7443-4fb8-d417-0b4417dc86c9",
    "scrolled": false
   },
   "outputs": [
    {
     "name": "stdout",
     "output_type": "stream",
     "text": [
      "(284807, 31)\n"
     ]
    },
    {
     "data": {
      "text/html": [
       "<div>\n",
       "<style scoped>\n",
       "    .dataframe tbody tr th:only-of-type {\n",
       "        vertical-align: middle;\n",
       "    }\n",
       "\n",
       "    .dataframe tbody tr th {\n",
       "        vertical-align: top;\n",
       "    }\n",
       "\n",
       "    .dataframe thead th {\n",
       "        text-align: right;\n",
       "    }\n",
       "</style>\n",
       "<table border=\"1\" class=\"dataframe\">\n",
       "  <thead>\n",
       "    <tr style=\"text-align: right;\">\n",
       "      <th></th>\n",
       "      <th>Time</th>\n",
       "      <th>V1</th>\n",
       "      <th>V2</th>\n",
       "      <th>V3</th>\n",
       "      <th>V4</th>\n",
       "      <th>V5</th>\n",
       "      <th>V6</th>\n",
       "      <th>V7</th>\n",
       "      <th>V8</th>\n",
       "      <th>V9</th>\n",
       "      <th>...</th>\n",
       "      <th>V21</th>\n",
       "      <th>V22</th>\n",
       "      <th>V23</th>\n",
       "      <th>V24</th>\n",
       "      <th>V25</th>\n",
       "      <th>V26</th>\n",
       "      <th>V27</th>\n",
       "      <th>V28</th>\n",
       "      <th>Amount</th>\n",
       "      <th>Class</th>\n",
       "    </tr>\n",
       "  </thead>\n",
       "  <tbody>\n",
       "    <tr>\n",
       "      <th>0</th>\n",
       "      <td>0.0</td>\n",
       "      <td>-1.359807</td>\n",
       "      <td>-0.072781</td>\n",
       "      <td>2.536347</td>\n",
       "      <td>1.378155</td>\n",
       "      <td>-0.338321</td>\n",
       "      <td>0.462388</td>\n",
       "      <td>0.239599</td>\n",
       "      <td>0.098698</td>\n",
       "      <td>0.363787</td>\n",
       "      <td>...</td>\n",
       "      <td>-0.018307</td>\n",
       "      <td>0.277838</td>\n",
       "      <td>-0.110474</td>\n",
       "      <td>0.066928</td>\n",
       "      <td>0.128539</td>\n",
       "      <td>-0.189115</td>\n",
       "      <td>0.133558</td>\n",
       "      <td>-0.021053</td>\n",
       "      <td>149.62</td>\n",
       "      <td>0</td>\n",
       "    </tr>\n",
       "    <tr>\n",
       "      <th>1</th>\n",
       "      <td>0.0</td>\n",
       "      <td>1.191857</td>\n",
       "      <td>0.266151</td>\n",
       "      <td>0.166480</td>\n",
       "      <td>0.448154</td>\n",
       "      <td>0.060018</td>\n",
       "      <td>-0.082361</td>\n",
       "      <td>-0.078803</td>\n",
       "      <td>0.085102</td>\n",
       "      <td>-0.255425</td>\n",
       "      <td>...</td>\n",
       "      <td>-0.225775</td>\n",
       "      <td>-0.638672</td>\n",
       "      <td>0.101288</td>\n",
       "      <td>-0.339846</td>\n",
       "      <td>0.167170</td>\n",
       "      <td>0.125895</td>\n",
       "      <td>-0.008983</td>\n",
       "      <td>0.014724</td>\n",
       "      <td>2.69</td>\n",
       "      <td>0</td>\n",
       "    </tr>\n",
       "    <tr>\n",
       "      <th>2</th>\n",
       "      <td>1.0</td>\n",
       "      <td>-1.358354</td>\n",
       "      <td>-1.340163</td>\n",
       "      <td>1.773209</td>\n",
       "      <td>0.379780</td>\n",
       "      <td>-0.503198</td>\n",
       "      <td>1.800499</td>\n",
       "      <td>0.791461</td>\n",
       "      <td>0.247676</td>\n",
       "      <td>-1.514654</td>\n",
       "      <td>...</td>\n",
       "      <td>0.247998</td>\n",
       "      <td>0.771679</td>\n",
       "      <td>0.909412</td>\n",
       "      <td>-0.689281</td>\n",
       "      <td>-0.327642</td>\n",
       "      <td>-0.139097</td>\n",
       "      <td>-0.055353</td>\n",
       "      <td>-0.059752</td>\n",
       "      <td>378.66</td>\n",
       "      <td>0</td>\n",
       "    </tr>\n",
       "  </tbody>\n",
       "</table>\n",
       "<p>3 rows × 31 columns</p>\n",
       "</div>"
      ],
      "text/plain": [
       "   Time        V1        V2        V3        V4        V5        V6        V7  \\\n",
       "0   0.0 -1.359807 -0.072781  2.536347  1.378155 -0.338321  0.462388  0.239599   \n",
       "1   0.0  1.191857  0.266151  0.166480  0.448154  0.060018 -0.082361 -0.078803   \n",
       "2   1.0 -1.358354 -1.340163  1.773209  0.379780 -0.503198  1.800499  0.791461   \n",
       "\n",
       "         V8        V9  ...       V21       V22       V23       V24       V25  \\\n",
       "0  0.098698  0.363787  ... -0.018307  0.277838 -0.110474  0.066928  0.128539   \n",
       "1  0.085102 -0.255425  ... -0.225775 -0.638672  0.101288 -0.339846  0.167170   \n",
       "2  0.247676 -1.514654  ...  0.247998  0.771679  0.909412 -0.689281 -0.327642   \n",
       "\n",
       "        V26       V27       V28  Amount  Class  \n",
       "0 -0.189115  0.133558 -0.021053  149.62      0  \n",
       "1  0.125895 -0.008983  0.014724    2.69      0  \n",
       "2 -0.139097 -0.055353 -0.059752  378.66      0  \n",
       "\n",
       "[3 rows x 31 columns]"
      ]
     },
     "execution_count": 77,
     "metadata": {},
     "output_type": "execute_result"
    }
   ],
   "source": [
    "# zip 파일을 바로 데이터프레임으로 읽을 수 있다\n",
    "card_df = pd.read_csv('./credit.csv.zip')\n",
    "print(card_df.shape)\n",
    "card_df.head(3)"
   ]
  },
  {
   "cell_type": "code",
   "execution_count": 125,
   "metadata": {},
   "outputs": [
    {
     "data": {
      "text/plain": [
       "0    284315\n",
       "1       492\n",
       "Name: Class, dtype: int64"
      ]
     },
     "execution_count": 125,
     "metadata": {},
     "output_type": "execute_result"
    }
   ],
   "source": [
    "card_df[\"Class\"].value_counts()"
   ]
  },
  {
   "cell_type": "code",
   "execution_count": 126,
   "metadata": {
    "colab": {
     "base_uri": "https://localhost:8080/"
    },
    "id": "6Ekg5f-sIm7x",
    "outputId": "efb0677a-e2ef-4314-9302-0202abf9162c"
   },
   "outputs": [
    {
     "data": {
      "text/plain": [
       "0    0.998273\n",
       "1    0.001727\n",
       "Name: Class, dtype: float64"
      ]
     },
     "execution_count": 126,
     "metadata": {},
     "output_type": "execute_result"
    }
   ],
   "source": [
    "card_df[\"Class\"].value_counts(normalize=True)"
   ]
  },
  {
   "cell_type": "markdown",
   "metadata": {
    "id": "jnxk_QSh-jE7"
   },
   "source": [
    "- 284,807개 중에 카드 도용 데이터는 0.172%만 있다:불균형 데이터\n",
    "- 차원축소된 (암호화된) (PCA:Priciple Component Analysis) 데이터 제공\n",
    "- Time'(처음부터 초단위 경과시간)\n",
    "- 거래액수: 'Amount'\n",
    "- 목적변수, 'Class' 1이면 도용\n",
    "- Time 컬럼 삭제"
   ]
  },
  {
   "cell_type": "code",
   "execution_count": 79,
   "metadata": {
    "id": "WfLARMRk-jE7"
   },
   "outputs": [],
   "source": [
    "card_df = card_df.drop('Time', axis=1)"
   ]
  },
  {
   "cell_type": "markdown",
   "metadata": {
    "id": "6omy9QtA-jFS"
   },
   "source": [
    "## 데이터 전처리\n",
    "- 로그변환\n",
    "- 스케일링"
   ]
  },
  {
   "cell_type": "code",
   "execution_count": 80,
   "metadata": {
    "colab": {
     "base_uri": "https://localhost:8080/",
     "height": 282
    },
    "id": "6HxnWW3RJx4B",
    "outputId": "4626ce08-f5d0-4c00-8b52-efd66647093d"
   },
   "outputs": [
    {
     "data": {
      "text/plain": [
       "<AxesSubplot:>"
      ]
     },
     "execution_count": 80,
     "metadata": {},
     "output_type": "execute_result"
    },
    {
     "data": {
      "image/png": "[encoded data removed]",
      "text/plain": [
       "<Figure size 432x288 with 1 Axes>"
      ]
     },
     "metadata": {
      "image/png": {
       "height": 248,
       "width": 394
      },
      "needs_background": "light"
     },
     "output_type": "display_data"
    }
   ],
   "source": [
    "card_df['Amount'].hist(bins=100)"
   ]
  },
  {
   "cell_type": "code",
   "execution_count": 81,
   "metadata": {
    "colab": {
     "base_uri": "https://localhost:8080/",
     "height": 282
    },
    "id": "XOmPjXB8F5l5",
    "outputId": "e98e59c8-decc-46a0-f1e7-4a9042aced4a"
   },
   "outputs": [
    {
     "data": {
      "text/plain": [
       "<AxesSubplot:>"
      ]
     },
     "execution_count": 81,
     "metadata": {},
     "output_type": "execute_result"
    },
    {
     "data": {
      "image/png": "[encoded data removed]",
      "text/plain": [
       "<Figure size 432x288 with 1 Axes>"
      ]
     },
     "metadata": {
      "image/png": {
       "height": 248,
       "width": 388
      },
      "needs_background": "light"
     },
     "output_type": "display_data"
    }
   ],
   "source": [
    "amount_log = np.log(1+card_df['Amount'])\n",
    "amount_log.hist(bins=100)"
   ]
  },
  {
   "cell_type": "code",
   "execution_count": 82,
   "metadata": {
    "id": "ZqQKXJBSHkxu"
   },
   "outputs": [],
   "source": [
    "from sklearn.preprocessing import StandardScaler\n",
    "scaler = StandardScaler()\n",
    "amount_sc = scaler.fit_transform(amount_log.values.reshape(-1,1))"
   ]
  },
  {
   "cell_type": "code",
   "execution_count": 11,
   "metadata": {
    "colab": {
     "base_uri": "https://localhost:8080/",
     "height": 265
    },
    "id": "n99upLRDGbMr",
    "outputId": "e5feed96-fb5f-4071-a09a-1d76705dbe3a"
   },
   "outputs": [
    {
     "data": {
      "image/png": "[encoded data removed]",
      "text/plain": [
       "<Figure size 432x288 with 1 Axes>"
      ]
     },
     "metadata": {
      "image/png": {
       "height": 248,
       "width": 388
      },
      "needs_background": "light"
     },
     "output_type": "display_data"
    }
   ],
   "source": [
    "plt.hist(amount_sc, bins=100)\n",
    "plt.show()"
   ]
  },
  {
   "cell_type": "markdown",
   "metadata": {
    "id": "6e_i8wX-WeMV"
   },
   "source": [
    "- 로그변환, 스케일링된 Amount를 사용한다\n",
    "- df_sc로 대체"
   ]
  },
  {
   "cell_type": "code",
   "execution_count": 83,
   "metadata": {
    "colab": {
     "base_uri": "https://localhost:8080/",
     "height": 163
    },
    "id": "FP9kuhcQGJzK",
    "outputId": "f0511098-9b12-470d-850e-657ef62931f3",
    "scrolled": true
   },
   "outputs": [
    {
     "data": {
      "text/html": [
       "<div>\n",
       "<style scoped>\n",
       "    .dataframe tbody tr th:only-of-type {\n",
       "        vertical-align: middle;\n",
       "    }\n",
       "\n",
       "    .dataframe tbody tr th {\n",
       "        vertical-align: top;\n",
       "    }\n",
       "\n",
       "    .dataframe thead th {\n",
       "        text-align: right;\n",
       "    }\n",
       "</style>\n",
       "<table border=\"1\" class=\"dataframe\">\n",
       "  <thead>\n",
       "    <tr style=\"text-align: right;\">\n",
       "      <th></th>\n",
       "      <th>V1</th>\n",
       "      <th>V2</th>\n",
       "      <th>V3</th>\n",
       "      <th>V4</th>\n",
       "      <th>V5</th>\n",
       "      <th>V6</th>\n",
       "      <th>V7</th>\n",
       "      <th>V8</th>\n",
       "      <th>V9</th>\n",
       "      <th>V10</th>\n",
       "      <th>...</th>\n",
       "      <th>V21</th>\n",
       "      <th>V22</th>\n",
       "      <th>V23</th>\n",
       "      <th>V24</th>\n",
       "      <th>V25</th>\n",
       "      <th>V26</th>\n",
       "      <th>V27</th>\n",
       "      <th>V28</th>\n",
       "      <th>Amount</th>\n",
       "      <th>Class</th>\n",
       "    </tr>\n",
       "  </thead>\n",
       "  <tbody>\n",
       "    <tr>\n",
       "      <th>0</th>\n",
       "      <td>-1.359807</td>\n",
       "      <td>-0.072781</td>\n",
       "      <td>2.536347</td>\n",
       "      <td>1.378155</td>\n",
       "      <td>-0.338321</td>\n",
       "      <td>0.462388</td>\n",
       "      <td>0.239599</td>\n",
       "      <td>0.098698</td>\n",
       "      <td>0.363787</td>\n",
       "      <td>0.090794</td>\n",
       "      <td>...</td>\n",
       "      <td>-0.018307</td>\n",
       "      <td>0.277838</td>\n",
       "      <td>-0.110474</td>\n",
       "      <td>0.066928</td>\n",
       "      <td>0.128539</td>\n",
       "      <td>-0.189115</td>\n",
       "      <td>0.133558</td>\n",
       "      <td>-0.021053</td>\n",
       "      <td>1.124303</td>\n",
       "      <td>0</td>\n",
       "    </tr>\n",
       "    <tr>\n",
       "      <th>1</th>\n",
       "      <td>1.191857</td>\n",
       "      <td>0.266151</td>\n",
       "      <td>0.166480</td>\n",
       "      <td>0.448154</td>\n",
       "      <td>0.060018</td>\n",
       "      <td>-0.082361</td>\n",
       "      <td>-0.078803</td>\n",
       "      <td>0.085102</td>\n",
       "      <td>-0.255425</td>\n",
       "      <td>-0.166974</td>\n",
       "      <td>...</td>\n",
       "      <td>-0.225775</td>\n",
       "      <td>-0.638672</td>\n",
       "      <td>0.101288</td>\n",
       "      <td>-0.339846</td>\n",
       "      <td>0.167170</td>\n",
       "      <td>0.125895</td>\n",
       "      <td>-0.008983</td>\n",
       "      <td>0.014724</td>\n",
       "      <td>-1.114639</td>\n",
       "      <td>0</td>\n",
       "    </tr>\n",
       "    <tr>\n",
       "      <th>2</th>\n",
       "      <td>-1.358354</td>\n",
       "      <td>-1.340163</td>\n",
       "      <td>1.773209</td>\n",
       "      <td>0.379780</td>\n",
       "      <td>-0.503198</td>\n",
       "      <td>1.800499</td>\n",
       "      <td>0.791461</td>\n",
       "      <td>0.247676</td>\n",
       "      <td>-1.514654</td>\n",
       "      <td>0.207643</td>\n",
       "      <td>...</td>\n",
       "      <td>0.247998</td>\n",
       "      <td>0.771679</td>\n",
       "      <td>0.909412</td>\n",
       "      <td>-0.689281</td>\n",
       "      <td>-0.327642</td>\n",
       "      <td>-0.139097</td>\n",
       "      <td>-0.055353</td>\n",
       "      <td>-0.059752</td>\n",
       "      <td>1.682368</td>\n",
       "      <td>0</td>\n",
       "    </tr>\n",
       "  </tbody>\n",
       "</table>\n",
       "<p>3 rows × 30 columns</p>\n",
       "</div>"
      ],
      "text/plain": [
       "         V1        V2        V3        V4        V5        V6        V7  \\\n",
       "0 -1.359807 -0.072781  2.536347  1.378155 -0.338321  0.462388  0.239599   \n",
       "1  1.191857  0.266151  0.166480  0.448154  0.060018 -0.082361 -0.078803   \n",
       "2 -1.358354 -1.340163  1.773209  0.379780 -0.503198  1.800499  0.791461   \n",
       "\n",
       "         V8        V9       V10  ...       V21       V22       V23       V24  \\\n",
       "0  0.098698  0.363787  0.090794  ... -0.018307  0.277838 -0.110474  0.066928   \n",
       "1  0.085102 -0.255425 -0.166974  ... -0.225775 -0.638672  0.101288 -0.339846   \n",
       "2  0.247676 -1.514654  0.207643  ...  0.247998  0.771679  0.909412 -0.689281   \n",
       "\n",
       "        V25       V26       V27       V28    Amount  Class  \n",
       "0  0.128539 -0.189115  0.133558 -0.021053  1.124303      0  \n",
       "1  0.167170  0.125895 -0.008983  0.014724 -1.114639      0  \n",
       "2 -0.327642 -0.139097 -0.055353 -0.059752  1.682368      0  \n",
       "\n",
       "[3 rows x 30 columns]"
      ]
     },
     "execution_count": 83,
     "metadata": {},
     "output_type": "execute_result"
    }
   ],
   "source": [
    "df_sc = card_df.copy()\n",
    "df_sc['Amount'] = amount_sc\n",
    "df_sc[:3]"
   ]
  },
  {
   "cell_type": "markdown",
   "metadata": {
    "id": "IA-YqJCI-jFA"
   },
   "source": [
    "## 훈련 데이터, 검증 데이터 나누기\n",
    "### 계층적 샘플링\n",
    "- 'Class' 컬럼이 목적변수(y)이다\n",
    "- y의 분포에 맞게 훈련/검증 데이터 비율을 맞춘다: 계층적(stratified) 샘플링"
   ]
  },
  {
   "cell_type": "code",
   "execution_count": 87,
   "metadata": {},
   "outputs": [],
   "source": [
    "X = df_sc.copy()\n",
    "y = X.pop('Class')\n",
    "X_train, X_test, y_train, y_test = train_test_split(X, y, \n",
    "                            random_state=9, stratify=y)"
   ]
  },
  {
   "cell_type": "markdown",
   "metadata": {},
   "source": [
    "## (연습) 훈련/검증 데이터중 카드 도용 비율을 확인하시오\n",
    "- 계층적 샘플링이 잘 수행되었는지 확인"
   ]
  },
  {
   "cell_type": "code",
   "execution_count": 136,
   "metadata": {},
   "outputs": [],
   "source": [
    "# (풀이)\n",
    "\n"
   ]
  },
  {
   "cell_type": "markdown",
   "metadata": {},
   "source": [
    "# 이진 분류"
   ]
  },
  {
   "cell_type": "code",
   "execution_count": 15,
   "metadata": {
    "id": "nQ6AY1xw-jFI"
   },
   "outputs": [],
   "source": [
    "def show_clf_result(y_test, y_pred):\n",
    "  print(confusion_matrix(y_test, y_pred))\n",
    "  print(classification_report(y_test, y_pred))\n",
    "\n",
    "def draw_roc(y_test, score):\n",
    "  fpr = dict()\n",
    "  tpr = dict()\n",
    "  roc_auc = dict()\n",
    "  fpr, tpr, _ = roc_curve(y_test, score)\n",
    "  roc_auc = roc_auc_score(y_test, score)\n",
    "  plt.figure(figsize=(6,6))\n",
    "  plt.plot(fpr, tpr, label='AUC = %0.4f)' % roc_auc)\n",
    "  plt.plot([0, 1], [0, 1], linestyle='--')\n",
    "  plt.xlim([0.0, 1.0])\n",
    "  plt.ylim([0.0, 1.05])\n",
    "  plt.xlabel('False Positive Rate')\n",
    "  plt.ylabel('True Positive Rate')\n",
    "  plt.title('ROC')\n",
    "  plt.legend(loc=\"lower right\")"
   ]
  },
  {
   "cell_type": "markdown",
   "metadata": {},
   "source": [
    "- 실험 결과 담는 리스트"
   ]
  },
  {
   "cell_type": "code",
   "execution_count": 90,
   "metadata": {},
   "outputs": [],
   "source": [
    "result = []"
   ]
  },
  {
   "cell_type": "markdown",
   "metadata": {
    "id": "Z2QzsUXf-jFF"
   },
   "source": [
    "## 로지스틱 회귀"
   ]
  },
  {
   "cell_type": "code",
   "execution_count": 91,
   "metadata": {
    "colab": {
     "base_uri": "https://localhost:8080/"
    },
    "id": "wpSXTkcP-jFG",
    "outputId": "4cd1114e-394d-4b1b-ce63-b38a78686e4f"
   },
   "outputs": [
    {
     "name": "stdout",
     "output_type": "stream",
     "text": [
      "[[71075     4]\n",
      " [   54    69]]\n",
      "              precision    recall  f1-score   support\n",
      "\n",
      "           0       1.00      1.00      1.00     71079\n",
      "           1       0.95      0.56      0.70       123\n",
      "\n",
      "    accuracy                           1.00     71202\n",
      "   macro avg       0.97      0.78      0.85     71202\n",
      "weighted avg       1.00      1.00      1.00     71202\n",
      "\n"
     ]
    }
   ],
   "source": [
    "lr_clf = LogisticRegression()\n",
    "lr_clf.fit(X_train, y_train)\n",
    "y_pred = lr_clf.predict(X_test)\n",
    "show_clf_result(y_test, y_pred)"
   ]
  },
  {
   "cell_type": "code",
   "execution_count": 92,
   "metadata": {},
   "outputs": [
    {
     "data": {
      "text/plain": [
       "[('logistic-regression', 0.9452054794520548, 0.5609756097560976)]"
      ]
     },
     "execution_count": 92,
     "metadata": {},
     "output_type": "execute_result"
    }
   ],
   "source": [
    "result.append(('logistic-regression',\n",
    "    precision_score(y_test, y_pred), recall_score(y_test, y_pred)))\n",
    "result"
   ]
  },
  {
   "cell_type": "markdown",
   "metadata": {
    "id": "LY8zESx0exBy"
   },
   "source": [
    "### ROC\n",
    "- 먼저 분류 확률 (또는 점수)를 구한다"
   ]
  },
  {
   "cell_type": "code",
   "execution_count": 94,
   "metadata": {
    "colab": {
     "base_uri": "https://localhost:8080/",
     "height": 403
    },
    "id": "T0gXY_9bOfqx",
    "outputId": "eefa56a8-8943-4b20-8bac-57a6dc7e84ab"
   },
   "outputs": [
    {
     "data": {
      "image/png": "[encoded data removed]",
      "text/plain": [
       "<Figure size 432x432 with 1 Axes>"
      ]
     },
     "metadata": {
      "image/png": {
       "height": 386,
       "width": 393
      },
      "needs_background": "light"
     },
     "output_type": "display_data"
    }
   ],
   "source": [
    "proba_1 = lr_clf.predict_proba(X_test)[:,1]\n",
    "draw_roc(y_test, proba_1)"
   ]
  },
  {
   "cell_type": "code",
   "execution_count": 101,
   "metadata": {
    "colab": {
     "base_uri": "https://localhost:8080/",
     "height": 143
    },
    "id": "cQ9CiuC8LmLg",
    "outputId": "b5770161-baa6-43c6-dff4-e637b0461dd7"
   },
   "outputs": [
    {
     "data": {
      "text/html": [
       "<div>\n",
       "<style scoped>\n",
       "    .dataframe tbody tr th:only-of-type {\n",
       "        vertical-align: middle;\n",
       "    }\n",
       "\n",
       "    .dataframe tbody tr th {\n",
       "        vertical-align: top;\n",
       "    }\n",
       "\n",
       "    .dataframe thead th {\n",
       "        text-align: right;\n",
       "    }\n",
       "</style>\n",
       "<table border=\"1\" class=\"dataframe\">\n",
       "  <thead>\n",
       "    <tr style=\"text-align: right;\">\n",
       "      <th></th>\n",
       "      <th>y_test</th>\n",
       "      <th>y_pred</th>\n",
       "      <th>proba_1</th>\n",
       "    </tr>\n",
       "  </thead>\n",
       "  <tbody>\n",
       "    <tr>\n",
       "      <th>0</th>\n",
       "      <td>0.0</td>\n",
       "      <td>0.0</td>\n",
       "      <td>0.000103</td>\n",
       "    </tr>\n",
       "    <tr>\n",
       "      <th>1</th>\n",
       "      <td>0.0</td>\n",
       "      <td>0.0</td>\n",
       "      <td>0.000095</td>\n",
       "    </tr>\n",
       "    <tr>\n",
       "      <th>2</th>\n",
       "      <td>0.0</td>\n",
       "      <td>0.0</td>\n",
       "      <td>0.000562</td>\n",
       "    </tr>\n",
       "  </tbody>\n",
       "</table>\n",
       "</div>"
      ],
      "text/plain": [
       "   y_test  y_pred   proba_1\n",
       "0     0.0     0.0  0.000103\n",
       "1     0.0     0.0  0.000095\n",
       "2     0.0     0.0  0.000562"
      ]
     },
     "execution_count": 101,
     "metadata": {},
     "output_type": "execute_result"
    }
   ],
   "source": [
    "Z = pd.DataFrame(np.vstack((y_test.values, y_pred, proba_1)).T, \n",
    "                 columns=['y_test','y_pred','proba_1'])\n",
    "Z[:3]"
   ]
  },
  {
   "cell_type": "markdown",
   "metadata": {
    "id": "1XWSAvwHUrJM"
   },
   "source": [
    "- 점수가 높은 순으로 (1이라고 판단할 점수) 임의로 N=200개만 그려보겠다"
   ]
  },
  {
   "cell_type": "code",
   "execution_count": 130,
   "metadata": {
    "colab": {
     "base_uri": "https://localhost:8080/",
     "height": 336
    },
    "id": "fUpmQTk2L23c",
    "outputId": "10e8dfae-4783-49a4-e6e3-5b9bb3011608"
   },
   "outputs": [
    {
     "data": {
      "text/plain": [
       "[<matplotlib.lines.Line2D at 0x7fa215f4da00>]"
      ]
     },
     "execution_count": 130,
     "metadata": {},
     "output_type": "execute_result"
    },
    {
     "data": {
      "image/png": "[encoded data removed]",
      "text/plain": [
       "<Figure size 720x360 with 1 Axes>"
      ]
     },
     "metadata": {
      "image/png": {
       "height": 302,
       "width": 595
      },
      "needs_background": "light"
     },
     "output_type": "display_data"
    }
   ],
   "source": [
    "N = 200\n",
    "Z = Z.sort_values(by=['proba_1'], ascending=False)\n",
    "plt.figure(figsize=(10,5))\n",
    "plt.scatter(range(N), Z['y_test'].values[:N], c='r', s=5)\n",
    "plt.plot(Z['y_pred'].values[:N], c='b')\n",
    "plt.plot(Z['proba_1'].values[:N], c='k')"
   ]
  },
  {
   "cell_type": "markdown",
   "metadata": {
    "id": "lJmJPxm8e6Vs"
   },
   "source": [
    "## 랜덤 포레스트"
   ]
  },
  {
   "cell_type": "code",
   "execution_count": 103,
   "metadata": {},
   "outputs": [
    {
     "data": {
      "text/plain": [
       "[('logistic-regression', 0.9452054794520548, 0.5609756097560976),\n",
       " ('random-forest', 0.9894736842105263, 0.7642276422764228)]"
      ]
     },
     "execution_count": 103,
     "metadata": {},
     "output_type": "execute_result"
    }
   ],
   "source": [
    "rfc = RandomForestClassifier(n_estimators=30)\n",
    "rfc.fit(X_train, y_train)\n",
    "y_pred = rfc.predict(X_test)\n",
    "result.append(('random-forest',\n",
    "    precision_score(y_test, y_pred), recall_score(y_test, y_pred)))\n",
    "result"
   ]
  },
  {
   "cell_type": "markdown",
   "metadata": {
    "id": "GrZG4pK3V6hc"
   },
   "source": [
    "- 1에 대한 리콜이 77%로 올라갔다"
   ]
  },
  {
   "cell_type": "markdown",
   "metadata": {
    "id": "Qq46s80KknXC"
   },
   "source": [
    "## LightGBM\n",
    "- 불균형 데이터로 학습하려면 반드시 boost_from_average=False로 설정해야 한다"
   ]
  },
  {
   "cell_type": "code",
   "execution_count": 104,
   "metadata": {},
   "outputs": [
    {
     "data": {
      "text/plain": [
       "[('logistic-regression', 0.9452054794520548, 0.5609756097560976),\n",
       " ('random-forest', 0.9894736842105263, 0.7642276422764228),\n",
       " ('lightgbm', 0.9509803921568627, 0.7886178861788617)]"
      ]
     },
     "execution_count": 104,
     "metadata": {},
     "output_type": "execute_result"
    }
   ],
   "source": [
    "lgbm_clf = LGBMClassifier(n_estimators=100,boost_from_average=False)\n",
    "lgbm_clf.fit(X_train, y_train)\n",
    "y_pred = lgbm_clf.predict(X_test)\n",
    "result.append(('lightgbm',\n",
    "    precision_score(y_test, y_pred), recall_score(y_test, y_pred)))\n",
    "result"
   ]
  },
  {
   "cell_type": "code",
   "execution_count": 105,
   "metadata": {
    "colab": {
     "base_uri": "https://localhost:8080/",
     "height": 295
    },
    "id": "qNb1b58YMbxn",
    "outputId": "8ddb994d-df58-46f3-f70c-3bafd648039d"
   },
   "outputs": [
    {
     "data": {
      "text/plain": [
       "<sklearn.metrics._plot.precision_recall_curve.PrecisionRecallDisplay at 0x7fa1f021b310>"
      ]
     },
     "execution_count": 105,
     "metadata": {},
     "output_type": "execute_result"
    },
    {
     "data": {
      "image/png": "[encoded data removed]",
      "text/plain": [
       "<Figure size 432x288 with 1 Axes>"
      ]
     },
     "metadata": {
      "image/png": {
       "height": 261,
       "width": 385
      },
      "needs_background": "light"
     },
     "output_type": "display_data"
    }
   ],
   "source": [
    "plot_precision_recall_curve(lgbm_clf, X_test, y_test)"
   ]
  },
  {
   "cell_type": "markdown",
   "metadata": {
    "id": "6176x1Zl70zU"
   },
   "source": [
    "## MLP 신경망\n",
    "\n",
    "- tensorflow, keras 설치 필요\n",
    "- colab에서 실행"
   ]
  },
  {
   "cell_type": "code",
   "execution_count": null,
   "metadata": {
    "colab": {
     "base_uri": "https://localhost:8080/"
    },
    "id": "KtmhlZB856ER",
    "outputId": "2430205e-ffed-4427-aaec-c802f8384c01"
   },
   "outputs": [],
   "source": [
    "# 신경망 라이브러리\n",
    "# import keras\n",
    "# from keras.models import Sequential\n",
    "# from keras.layers import Dense\n",
    "\n",
    "# classifier = Sequential()\n",
    "# classifier.add(Dense(units = 30 , activation = 'relu', input_dim = 29))\n",
    "# classifier.add(Dense(30, activation = 'relu'))\n",
    "# classifier.add(Dense(1, activation = 'sigmoid'))\n",
    "\n",
    "# classifier.compile(optimizer = 'adam', loss = 'binary_crossentropy', metrics = ['accuracy'])\n",
    "# history = classifier.fit(X_train, y_train, batch_size=20, epochs=5,\n",
    "#                   validation_split=0.2, verbose=1)\n",
    "\n",
    "# # callbacks=[keras.callbacks.EarlyStopping(monitor='val_accuracy', patience=5)])"
   ]
  },
  {
   "cell_type": "code",
   "execution_count": null,
   "metadata": {
    "colab": {
     "base_uri": "https://localhost:8080/"
    },
    "id": "B_or_xc175X9",
    "outputId": "b89a11ba-339e-4523-9efb-874f37ac206a"
   },
   "outputs": [],
   "source": [
    "# MLP는 predict함수가 확률을 리턴한다\n",
    "# y_pred_p = classifier.predict(X_test)\n",
    "# y_pred = (y_pred_p.ravel() > 0.5)\n",
    "\n",
    "# show_clf_result(y_test, y_pred)"
   ]
  },
  {
   "cell_type": "markdown",
   "metadata": {
    "id": "fT4cD9jh-jFk"
   },
   "source": [
    "# 데이터 불균형\n",
    "- 데이터 불균형으로 분류 성능이 떨어진다\n",
    "- 오버샘플링을 하여 적게 발생하는 데이터를 증식한다 (언더 샘플링은 작은 수에 맞추는 것)\n",
    "- SMOTE(Synthetic Minority Over sampling Technique)\n",
    " - k 인접 샘플을 찾아서 사이의 값들을 추가로 사용한다\n",
    "- SMOTE 오버 샘플링은 학습 데이터에만 적용해야 한다 (검증시에는 원본 데이터만 사용)\n",
    "- 범주형이 있을 때는 SMOTE-NC (Nomincal and Continuous)를 사용한다\n",
    " - (참고) SMOTENC(categorical_features=[18, 19]))\n",
    "- RandomOverSamling, Adaptive Synthetic Sampling 등도 사용한다\n",
    "\n",
    "## SMOTE"
   ]
  },
  {
   "cell_type": "code",
   "execution_count": 106,
   "metadata": {},
   "outputs": [
    {
     "data": {
      "text/plain": [
       "((213605, 29), (213605,))"
      ]
     },
     "execution_count": 106,
     "metadata": {},
     "output_type": "execute_result"
    }
   ],
   "source": [
    "X_train.shape, y_train.shape"
   ]
  },
  {
   "cell_type": "code",
   "execution_count": 107,
   "metadata": {},
   "outputs": [
    {
     "data": {
      "text/plain": [
       "(369, 213236)"
      ]
     },
     "execution_count": 107,
     "metadata": {},
     "output_type": "execute_result"
    }
   ],
   "source": [
    "(y_train == 1).sum(),(y_train == 0).sum()"
   ]
  },
  {
   "cell_type": "code",
   "execution_count": 108,
   "metadata": {},
   "outputs": [
    {
     "data": {
      "text/plain": [
       "(0.00173, 0.99827)"
      ]
     },
     "execution_count": 108,
     "metadata": {},
     "output_type": "execute_result"
    }
   ],
   "source": [
    "(y_train == 1).mean().round(5),(y_train == 0).mean().round(5)"
   ]
  },
  {
   "cell_type": "markdown",
   "metadata": {},
   "source": [
    "- 데이터 증식"
   ]
  },
  {
   "cell_type": "code",
   "execution_count": 31,
   "metadata": {
    "colab": {
     "base_uri": "https://localhost:8080/",
     "height": 218
    },
    "id": "tZBUvFOA-jFk",
    "outputId": "7003573c-92e2-43f8-c174-f73375614398"
   },
   "outputs": [
    {
     "data": {
      "text/plain": [
       "((426472, 29), (426472,))"
      ]
     },
     "execution_count": 31,
     "metadata": {},
     "output_type": "execute_result"
    }
   ],
   "source": [
    "smote = SMOTE(random_state=9)\n",
    "X_train_over, y_train_over = smote.fit_resample(X_train, y_train)\n",
    "X_train_over.shape, y_train_over.shape"
   ]
  },
  {
   "cell_type": "markdown",
   "metadata": {
    "id": "MzfD2SN80hVw"
   },
   "source": [
    "- 0과 1의 갯수를 큰 쪽에 맞추어 오버샘플링한다"
   ]
  },
  {
   "cell_type": "code",
   "execution_count": 32,
   "metadata": {
    "colab": {
     "base_uri": "https://localhost:8080/"
    },
    "id": "2j-kvI8_zkLg",
    "outputId": "57202d30-57b4-461d-dee0-e06343211108"
   },
   "outputs": [
    {
     "data": {
      "text/plain": [
       "(array([0, 1]), array([213236, 213236]))"
      ]
     },
     "execution_count": 32,
     "metadata": {},
     "output_type": "execute_result"
    }
   ],
   "source": [
    "np.unique(y_train_over, return_counts=True)"
   ]
  },
  {
   "cell_type": "markdown",
   "metadata": {
    "id": "h1VRScJi3iHE"
   },
   "source": [
    "- 학습만 오버 샘플로 수행하고\n",
    "- 검증은 원래의 데이터로 수행해야 한다 (X_test, y_test 사용)"
   ]
  },
  {
   "cell_type": "code",
   "execution_count": 109,
   "metadata": {
    "colab": {
     "base_uri": "https://localhost:8080/"
    },
    "id": "9iY8VJFI-jFm",
    "outputId": "1bba857b-94cb-48e2-8015-1bed8985d189"
   },
   "outputs": [
    {
     "data": {
      "text/plain": [
       "[('logistic-regression', 0.9452054794520548, 0.5609756097560976),\n",
       " ('random-forest', 0.9894736842105263, 0.7642276422764228),\n",
       " ('lightgbm', 0.9509803921568627, 0.7886178861788617),\n",
       " ('log-reg-SMOTE', 0.06172839506172839, 0.9349593495934959)]"
      ]
     },
     "execution_count": 109,
     "metadata": {},
     "output_type": "execute_result"
    }
   ],
   "source": [
    "lr_clf = LogisticRegression()\n",
    "lr_clf.fit(X_train_over, y_train_over)\n",
    "y_pred = lr_clf.predict(X_test)\n",
    "result.append(('log-reg-SMOTE',\n",
    "    precision_score(y_test, y_pred), recall_score(y_test, y_pred)))\n",
    "result"
   ]
  },
  {
   "cell_type": "markdown",
   "metadata": {
    "id": "XO_0IRjf3wHy"
   },
   "source": [
    "- 1에 대한 리콜이 크게 향상되었지만 정밀도는 떨어진 것을 알 수 있다"
   ]
  },
  {
   "cell_type": "code",
   "execution_count": 110,
   "metadata": {
    "colab": {
     "base_uri": "https://localhost:8080/"
    },
    "id": "TwkwsrHS5J2R",
    "outputId": "33730522-b798-48eb-ddd9-d80ae45c2c00"
   },
   "outputs": [
    {
     "data": {
      "text/plain": [
       "[('logistic-regression', 0.9452054794520548, 0.5609756097560976),\n",
       " ('random-forest', 0.9894736842105263, 0.7642276422764228),\n",
       " ('lightgbm', 0.9509803921568627, 0.7886178861788617),\n",
       " ('log-reg-SMOTE', 0.06172839506172839, 0.9349593495934959),\n",
       " ('lgbm-SMOTE', 0.8869565217391304, 0.8292682926829268)]"
      ]
     },
     "execution_count": 110,
     "metadata": {},
     "output_type": "execute_result"
    }
   ],
   "source": [
    "lgbm_clf.fit(X_train_over, y_train_over)\n",
    "y_pred = lgbm_clf.predict(X_test)\n",
    "result.append(('lgbm-SMOTE',\n",
    "    precision_score(y_test, y_pred), recall_score(y_test, y_pred)))\n",
    "result"
   ]
  },
  {
   "cell_type": "markdown",
   "metadata": {
    "id": "PEFu4SMgAcn9"
   },
   "source": [
    "## RandomOverSampler"
   ]
  },
  {
   "cell_type": "code",
   "execution_count": 111,
   "metadata": {
    "colab": {
     "base_uri": "https://localhost:8080/"
    },
    "id": "xWqNcBhB9pcg",
    "outputId": "ada295d2-c4f7-4e90-a1bb-89fde99c8899"
   },
   "outputs": [
    {
     "data": {
      "text/plain": [
       "[('logistic-regression', 0.9452054794520548, 0.5609756097560976),\n",
       " ('random-forest', 0.9894736842105263, 0.7642276422764228),\n",
       " ('lightgbm', 0.9509803921568627, 0.7886178861788617),\n",
       " ('log-reg-SMOTE', 0.06172839506172839, 0.9349593495934959),\n",
       " ('lgbm-SMOTE', 0.8869565217391304, 0.8292682926829268),\n",
       " ('lgbm-RandomOverSampler', 0.9035087719298246, 0.8373983739837398)]"
      ]
     },
     "execution_count": 111,
     "metadata": {},
     "output_type": "execute_result"
    }
   ],
   "source": [
    "ros = RandomOverSampler(random_state=9)\n",
    "X_train_over, y_train_over = ros.fit_resample(X_train, y_train)\n",
    "lgbm_clf.fit(X_train_over, y_train_over)\n",
    "y_pred = lgbm_clf.predict(X_test)\n",
    "result.append(('lgbm-RandomOverSampler',\n",
    "    precision_score(y_test, y_pred), recall_score(y_test, y_pred)))\n",
    "result"
   ]
  },
  {
   "cell_type": "markdown",
   "metadata": {
    "id": "Wy8lEd_ZAvlN"
   },
   "source": [
    "## ADASYN (Adaptive Synthetic Sampling)"
   ]
  },
  {
   "cell_type": "code",
   "execution_count": 112,
   "metadata": {
    "colab": {
     "base_uri": "https://localhost:8080/"
    },
    "id": "waUR8p1P90o9",
    "outputId": "0418ff83-fec5-4c2b-b2e3-866ed4b682a1"
   },
   "outputs": [
    {
     "data": {
      "text/plain": [
       "[('logistic-regression', 0.9452054794520548, 0.5609756097560976),\n",
       " ('random-forest', 0.9894736842105263, 0.7642276422764228),\n",
       " ('lightgbm', 0.9509803921568627, 0.7886178861788617),\n",
       " ('log-reg-SMOTE', 0.06172839506172839, 0.9349593495934959),\n",
       " ('lgbm-SMOTE', 0.8869565217391304, 0.8292682926829268),\n",
       " ('lgbm-RandomOverSampler', 0.9035087719298246, 0.8373983739837398),\n",
       " ('lgbm-ADASYN', 0.37943262411347517, 0.8699186991869918)]"
      ]
     },
     "execution_count": 112,
     "metadata": {},
     "output_type": "execute_result"
    }
   ],
   "source": [
    "adasyn = ADASYN(random_state=9)\n",
    "X_train_over, y_train_over = adasyn.fit_resample(X_train, y_train)\n",
    "lgbm_clf.fit(X_train_over, y_train_over)\n",
    "y_pred = lgbm_clf.predict(X_test)\n",
    "result.append(('lgbm-ADASYN',\n",
    "    precision_score(y_test, y_pred), recall_score(y_test, y_pred)))\n",
    "result"
   ]
  },
  {
   "cell_type": "markdown",
   "metadata": {},
   "source": [
    "## (연습) 위에서 구한 result 결과를 막대 그래프로 그리시오\n",
    "- 각 모델에 대한 성능을 정밀도와 리콜 값으로 그리시오"
   ]
  },
  {
   "cell_type": "code",
   "execution_count": 137,
   "metadata": {
    "id": "PNJ5SVSLA3ld"
   },
   "outputs": [],
   "source": [
    "# (풀이)\n",
    "\n"
   ]
  },
  {
   "cell_type": "markdown",
   "metadata": {},
   "source": [
    "## 최적 샘플링 찾기\n",
    "\n",
    "- sampling_strategy를 사용하여 증식하는 비율을 조정한다 (1이면 동수로 증식)"
   ]
  },
  {
   "cell_type": "markdown",
   "metadata": {},
   "source": [
    "### 30% 만 증식"
   ]
  },
  {
   "cell_type": "code",
   "execution_count": 116,
   "metadata": {},
   "outputs": [
    {
     "data": {
      "text/plain": [
       "(0.9369369369369369, 0.8455284552845529)"
      ]
     },
     "execution_count": 116,
     "metadata": {},
     "output_type": "execute_result"
    }
   ],
   "source": [
    "ros = RandomOverSampler(random_state=9, sampling_strategy=0.3)\n",
    "X_train_over, y_train_over = ros.fit_resample(X_train, y_train)\n",
    "lgbm_clf.fit(X_train_over, y_train_over)\n",
    "y_pred = lgbm_clf.predict(X_test)\n",
    "precision_score(y_test, y_pred), recall_score(y_test, y_pred)"
   ]
  },
  {
   "cell_type": "code",
   "execution_count": 117,
   "metadata": {},
   "outputs": [
    {
     "data": {
      "text/plain": [
       "(277206, 29)"
      ]
     },
     "execution_count": 117,
     "metadata": {},
     "output_type": "execute_result"
    }
   ],
   "source": [
    "X_train_over.shape"
   ]
  },
  {
   "cell_type": "code",
   "execution_count": 118,
   "metadata": {},
   "outputs": [
    {
     "data": {
      "text/plain": [
       "(63970, 213236)"
      ]
     },
     "execution_count": 118,
     "metadata": {},
     "output_type": "execute_result"
    }
   ],
   "source": [
    "(y_train_over == 1).sum(),(y_train_over == 0).sum()"
   ]
  },
  {
   "cell_type": "code",
   "execution_count": 119,
   "metadata": {},
   "outputs": [
    {
     "name": "stdout",
     "output_type": "stream",
     "text": [
      "[[71072     7]\n",
      " [   19   104]]\n",
      "              precision    recall  f1-score   support\n",
      "\n",
      "           0       1.00      1.00      1.00     71079\n",
      "           1       0.94      0.85      0.89       123\n",
      "\n",
      "    accuracy                           1.00     71202\n",
      "   macro avg       0.97      0.92      0.94     71202\n",
      "weighted avg       1.00      1.00      1.00     71202\n",
      "\n"
     ]
    }
   ],
   "source": [
    "show_clf_result(y_test, y_pred)"
   ]
  },
  {
   "cell_type": "markdown",
   "metadata": {},
   "source": [
    "## (연습) 최적의 sampling_strategy를 구하시오\n",
    "- fraction 값을 0.01 ~ 1 사이에서 변화 시키면서 리콜과 정밀도가 높은 지점을 찾는다"
   ]
  },
  {
   "cell_type": "code",
   "execution_count": 138,
   "metadata": {},
   "outputs": [],
   "source": [
    "# (풀이)\n",
    "\n"
   ]
  },
  {
   "cell_type": "markdown",
   "metadata": {},
   "source": [
    "# 정답"
   ]
  },
  {
   "cell_type": "markdown",
   "metadata": {},
   "source": [
    "## (연습) 훈련/검증 데이터중 카드 도용 비율을 확인하시오\n",
    "- 계층적 샘플링이 잘 수행되었는지 확인"
   ]
  },
  {
   "cell_type": "code",
   "execution_count": 128,
   "metadata": {},
   "outputs": [
    {
     "data": {
      "text/plain": [
       "(0    213236\n",
       " 1       369\n",
       " Name: Class, dtype: int64,\n",
       " 0    71079\n",
       " 1      123\n",
       " Name: Class, dtype: int64)"
      ]
     },
     "execution_count": 128,
     "metadata": {},
     "output_type": "execute_result"
    }
   ],
   "source": [
    "y_train.value_counts(), y_test.value_counts()"
   ]
  },
  {
   "cell_type": "code",
   "execution_count": 127,
   "metadata": {
    "scrolled": true
   },
   "outputs": [
    {
     "data": {
      "text/plain": [
       "(0    0.998273\n",
       " 1    0.001727\n",
       " Name: Class, dtype: float64,\n",
       " 0    0.998273\n",
       " 1    0.001727\n",
       " Name: Class, dtype: float64)"
      ]
     },
     "execution_count": 127,
     "metadata": {},
     "output_type": "execute_result"
    }
   ],
   "source": [
    "y_train.value_counts(normalize=True), y_test.value_counts(normalize=True)"
   ]
  },
  {
   "cell_type": "markdown",
   "metadata": {},
   "source": [
    "## (연습) 위에서 구한 result 결과를 막대 그래프로 그리시오\n",
    "- 각 모델에 대한 성능을 정밀도와 리콜 값으로 그리시오"
   ]
  },
  {
   "cell_type": "code",
   "execution_count": 113,
   "metadata": {
    "id": "PNJ5SVSLA3ld"
   },
   "outputs": [
    {
     "data": {
      "text/html": [
       "<div>\n",
       "<style scoped>\n",
       "    .dataframe tbody tr th:only-of-type {\n",
       "        vertical-align: middle;\n",
       "    }\n",
       "\n",
       "    .dataframe tbody tr th {\n",
       "        vertical-align: top;\n",
       "    }\n",
       "\n",
       "    .dataframe thead th {\n",
       "        text-align: right;\n",
       "    }\n",
       "</style>\n",
       "<table border=\"1\" class=\"dataframe\">\n",
       "  <thead>\n",
       "    <tr style=\"text-align: right;\">\n",
       "      <th></th>\n",
       "      <th>precison</th>\n",
       "      <th>recall</th>\n",
       "    </tr>\n",
       "    <tr>\n",
       "      <th>model</th>\n",
       "      <th></th>\n",
       "      <th></th>\n",
       "    </tr>\n",
       "  </thead>\n",
       "  <tbody>\n",
       "    <tr>\n",
       "      <th>logistic-regression</th>\n",
       "      <td>0.945205</td>\n",
       "      <td>0.560976</td>\n",
       "    </tr>\n",
       "    <tr>\n",
       "      <th>random-forest</th>\n",
       "      <td>0.989474</td>\n",
       "      <td>0.764228</td>\n",
       "    </tr>\n",
       "    <tr>\n",
       "      <th>lightgbm</th>\n",
       "      <td>0.950980</td>\n",
       "      <td>0.788618</td>\n",
       "    </tr>\n",
       "    <tr>\n",
       "      <th>log-reg-SMOTE</th>\n",
       "      <td>0.061728</td>\n",
       "      <td>0.934959</td>\n",
       "    </tr>\n",
       "    <tr>\n",
       "      <th>lgbm-SMOTE</th>\n",
       "      <td>0.886957</td>\n",
       "      <td>0.829268</td>\n",
       "    </tr>\n",
       "    <tr>\n",
       "      <th>lgbm-RandomOverSampler</th>\n",
       "      <td>0.903509</td>\n",
       "      <td>0.837398</td>\n",
       "    </tr>\n",
       "    <tr>\n",
       "      <th>lgbm-ADASYN</th>\n",
       "      <td>0.379433</td>\n",
       "      <td>0.869919</td>\n",
       "    </tr>\n",
       "  </tbody>\n",
       "</table>\n",
       "</div>"
      ],
      "text/plain": [
       "                        precison    recall\n",
       "model                                     \n",
       "logistic-regression     0.945205  0.560976\n",
       "random-forest           0.989474  0.764228\n",
       "lightgbm                0.950980  0.788618\n",
       "log-reg-SMOTE           0.061728  0.934959\n",
       "lgbm-SMOTE              0.886957  0.829268\n",
       "lgbm-RandomOverSampler  0.903509  0.837398\n",
       "lgbm-ADASYN             0.379433  0.869919"
      ]
     },
     "execution_count": 113,
     "metadata": {},
     "output_type": "execute_result"
    }
   ],
   "source": [
    "df = pd.DataFrame(result)\n",
    "df.columns = ['model','precison', 'recall']\n",
    "df.set_index('model', inplace=True)\n",
    "df"
   ]
  },
  {
   "cell_type": "code",
   "execution_count": 114,
   "metadata": {},
   "outputs": [
    {
     "data": {
      "text/plain": [
       "<AxesSubplot:xlabel='model'>"
      ]
     },
     "execution_count": 114,
     "metadata": {},
     "output_type": "execute_result"
    },
    {
     "data": {
      "image/png": "[encoded data removed]",
      "text/plain": [
       "<Figure size 432x288 with 1 Axes>"
      ]
     },
     "metadata": {
      "image/png": {
       "height": 388,
       "width": 372
      },
      "needs_background": "light"
     },
     "output_type": "display_data"
    }
   ],
   "source": [
    "df.plot.bar()"
   ]
  },
  {
   "cell_type": "markdown",
   "metadata": {},
   "source": [
    "## (연습) 최적의 sampling_strategy를 구하시오\n",
    "- fraction 값을 0.01 ~ 1 사이에서 변화 시키면서 리콜과 정밀도가 높은 지점을 찾는다"
   ]
  },
  {
   "cell_type": "code",
   "execution_count": 135,
   "metadata": {},
   "outputs": [
    {
     "data": {
      "text/plain": [
       "<AxesSubplot:xlabel='fraction'>"
      ]
     },
     "execution_count": 135,
     "metadata": {},
     "output_type": "execute_result"
    },
    {
     "data": {
      "image/png": "[encoded data removed]",
      "text/plain": [
       "<Figure size 432x288 with 1 Axes>"
      ]
     },
     "metadata": {
      "image/png": {
       "height": 261,
       "width": 384
      },
      "needs_background": "light"
     },
     "output_type": "display_data"
    }
   ],
   "source": [
    "res_pr = []\n",
    "for fraction in np.linspace(0.01,0.99,99).round(2):\n",
    "    ros = RandomOverSampler(random_state=9, sampling_strategy=fraction)\n",
    "    X_train_over, y_train_over = ros.fit_resample(X_train, y_train)\n",
    "    lgbm_clf.fit(X_train_over, y_train_over)\n",
    "    y_pred = lgbm_clf.predict(X_test)\n",
    "    res_pr.append((fraction, precision_score(y_test, y_pred).round(4), \n",
    "          recall_score(y_test, y_pred).round(4)))\n",
    "\n",
    "df1 = pd.DataFrame(res_pr)\n",
    "df1.columns = ['fraction','precison', 'recall']\n",
    "df1.set_index('fraction', inplace=True)\n",
    "df1.plot()"
   ]
  },
  {
   "cell_type": "code",
   "execution_count": null,
   "metadata": {},
   "outputs": [],
   "source": []
  }
 ],
 "metadata": {
  "accelerator": "GPU",
  "colab": {
   "collapsed_sections": [],
   "name": "fn-creditcard-ImbalancedData.ipynb",
   "provenance": []
  },
  "kernelspec": {
   "display_name": "Python 3",
   "language": "python",
   "name": "python3"
  },
  "language_info": {
   "codemirror_mode": {
    "name": "ipython",
    "version": 3
   },
   "file_extension": ".py",
   "mimetype": "text/x-python",
   "name": "python",
   "nbconvert_exporter": "python",
   "pygments_lexer": "ipython3",
   "version": "3.8.8"
  },
  "toc": {
   "base_numbering": 1,
   "nav_menu": {},
   "number_sections": false,
   "sideBar": true,
   "skip_h1_title": false,
   "title_cell": "Table of Contents",
   "title_sidebar": "Contents",
   "toc_cell": false,
   "toc_position": {
    "height": "calc(100% - 180px)",
    "left": "10px",
    "top": "150px",
    "width": "165px"
   },
   "toc_section_display": true,
   "toc_window_display": true
  }
 },
 "nbformat": 4,
 "nbformat_minor": 1
}
